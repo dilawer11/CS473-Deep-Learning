{
 "cells": [
  {
   "cell_type": "markdown",
   "metadata": {},
   "source": [
    "# Homework 3  - Part B\n",
    "\n",
    "\n",
    "###### Roll Number: 20100177"
   ]
  },
  {
   "cell_type": "markdown",
   "metadata": {},
   "source": [
    "We'll start Part B by taking out a minute to thank creators of Tensorflow and Keras for making our lives easier. The goal of this home work is to design a convolutional neural network to classify images from CIFAR-10. CIFAR-10 is a subset of CIFAR-100 with 10 and 100 being number of classes. They were collected by Alex Krizhevsky, Vinod Nair, and Geoffrey Hinton. We'll be building small CNNs using Keras to solve this classification task.\n",
    "<br>\n",
    "\n",
    "Please note:\n",
    "- You have to save each trained model weights and tensorboard logs in different folder. Use proper names for the model\n",
    "- You have to show trainings in this notebook file, so make sure that the printings and figures are available on this notebook file\n",
    "- This notebook is also your report file. So add your comments and analysis of each task. Your comments and analysis are as important as your code. This would be considered short report and it is compulsory part of the homework.\n",
    "- Your system memory may overflow. In that case, please reset memory for trained model(s) keeping printed logs and history of trained model. History of all trained models could be used to plot the trends.\n",
    "- For trends you shall also use tensorboard logs "
   ]
  },
  {
   "cell_type": "markdown",
   "metadata": {},
   "source": [
    "### Imports"
   ]
  },
  {
   "cell_type": "code",
   "execution_count": 76,
   "metadata": {},
   "outputs": [],
   "source": [
    "import keras\n",
    "\n",
    "from keras.models import Model\n",
    "from keras.layers import Dense, Input, Conv2D, MaxPooling2D, Dropout, Flatten, BatchNormalization\n",
    "from keras.optimizers import Adam\n",
    "from keras.callbacks import ModelCheckpoint, EarlyStopping, CSVLogger, ReduceLROnPlateau, TensorBoard\n",
    "from keras.utils import plot_model, to_categorical\n",
    "import keras.backend as K\n",
    "\n",
    "from sklearn.model_selection import train_test_split\n",
    "from sklearn.preprocessing import LabelBinarizer\n",
    "from IPython.display import display\n",
    "\n",
    "import cv2\n",
    "import numpy as np\n",
    "import pandas as pd\n",
    "%matplotlib inline\n",
    "import matplotlib.pyplot as plt\n",
    "plt.style.use('seaborn')\n",
    "\n",
    "import os\n",
    "import glob\n",
    "your_id = 20100177\n",
    "np.random.seed(your_id)\n",
    "import imageio\n",
    "import re\n",
    "\n"
   ]
  },
  {
   "cell_type": "markdown",
   "metadata": {
    "heading_collapsed": true
   },
   "source": [
    "###### Hyperparameters"
   ]
  },
  {
   "cell_type": "code",
   "execution_count": 77,
   "metadata": {
    "hidden": true
   },
   "outputs": [],
   "source": [
    "batch_size = 64\n",
    "num_classes = 10\n",
    "class_labels = np.arange(0, num_classes, 1)\n",
    "input_shape_cifar = (32,32,3)\n",
    "images_dir = './cifar/'\n",
    "epochs = 25\n",
    "all_histories = []\n",
    "model_names = []"
   ]
  },
  {
   "cell_type": "markdown",
   "metadata": {},
   "source": [
    "### Task 1.1   Load dataset information\n",
    "Download the [CIFAR-10 Dataset](https://drive.google.com/drive/folders/1FPsts3C2tJMVQ1xcCi2XZdb2z_J2OjSr?usp=sharing) and setup your working directory. Be sure to put the dataset in the <code>images_dir</code> directory. We won't be loading images and will only store the file paths in memory. These file paths will be used to load and return batch of images in our generator. Feel free to explore the dataset in this section."
   ]
  },
  {
   "cell_type": "code",
   "execution_count": 78,
   "metadata": {},
   "outputs": [],
   "source": [
    "train_dir = images_dir + 'train/'\n",
    "test_dir = images_dir + 'test/'\n",
    "label_dir = images_dir + 'labels.txt'\n",
    "\n",
    "# Use either os.listdir or glob to generate an array of file paths for training and testing data (I would recommend using glob)\n",
    "train_files = glob.glob(train_dir + '/*')\n",
    "test_files = glob.glob(test_dir + '/*')\n",
    "# Use labels.txt to store labels in an array/dict (NOTE: The line number corresponds to the actual label)\n",
    "f = open(label_dir, 'r')\n",
    "classes = f.read().split('\\n')\n",
    "\n",
    "# Use sci-kit learn's train_test_split method to generate a validation dataset from the training dataset\n",
    "train_files, val_files = train_test_split(train_files, test_size=0.2)"
   ]
  },
  {
   "cell_type": "markdown",
   "metadata": {},
   "source": [
    "### Task 1.2 Preprocessing\n",
    "Preprocessing of data such as normalization, mean shift, make the learning task simple for network and could accelerate the training process. "
   ]
  },
  {
   "cell_type": "markdown",
   "metadata": {},
   "source": [
    "###### Task 1.2.1 \n",
    "In images, pixel values range from 0 to 255. To shift the values between (0,1) range, divide input image by 255."
   ]
  },
  {
   "cell_type": "code",
   "execution_count": 79,
   "metadata": {},
   "outputs": [],
   "source": [
    "#Simply divide each pixel value by 255\n",
    "def preprocessing_norm(images):\n",
    "    return np.true_divide(images, 255)"
   ]
  },
  {
   "cell_type": "markdown",
   "metadata": {},
   "source": [
    "###### Task 1.2.2\n",
    "Compute the channel-wise mean and standard deviation (std). Subtract channel-wise mean and divide by channel-wise std. This will shift the mean to zero and variation to 1 for each channel. "
   ]
  },
  {
   "cell_type": "code",
   "execution_count": 80,
   "metadata": {},
   "outputs": [],
   "source": [
    "#For Each channel compute the mean and stddev and shift it\n",
    "def preprocessing_meanShift(images):\n",
    "    for c in range(images.shape[3]):\n",
    "        mean = np.mean(images[:,:,:,c])\n",
    "        stddev = np.std(images[:,:,:,c])\n",
    "        images[:,:,:,c] = (images[:,:,:,c] - mean) / stddev\n",
    "    return images"
   ]
  },
  {
   "cell_type": "markdown",
   "metadata": {},
   "source": [
    "### Task 1.3  Batch Generator\n",
    "Previously, when training our models, we were loading the complete data in memory to fit our model. However, in practice we're working with very large datasets which cannot be loaded all at once in memory. As a solution, we use \"Data Generators\" which are essentially python generators that load batches of data from disk into memory and pass into our models. In order to achieve this, we only store filepaths that point to training/test samples in our dataset in memory. A data generator yields a tuple of (Xs,Ys) whenever the generator is used via the next() function. Implementation of a data generator is open ended, you can add whatever arguments you find necessary in addition to the ones provided."
   ]
  },
  {
   "cell_type": "code",
   "execution_count": 81,
   "metadata": {},
   "outputs": [],
   "source": [
    "#I used the LabelBinarizer instead of to_categorical because for some reason that wasn't working for me\n",
    "lb = LabelBinarizer()\n",
    "labels = list(map(lambda x: re.findall(r'_([a-z]+)', x)[0], train_files))\n",
    "lb.fit(labels)\n",
    "def data_generator(image_list , batch_size = 32, preprocessing = None):\n",
    "    global lb\n",
    "\n",
    "    while 1:\n",
    "        for i in range(0, len(image_list), batch_size):    \n",
    "            X = []\n",
    "            y = []\n",
    "            for j in range(i, min(i + batch_size, len(image_list))):\n",
    "                im = imageio.imread(image_list[j])\n",
    "                X.append(im)\n",
    "                y.extend(re.findall(r'_([a-z]+)', image_list[j]))\n",
    "            X = np.array(X)\n",
    "            if preprocessing:\n",
    "                X = preprocessing(X)\n",
    "            yield (X, lb.transform(y))\n",
    "    "
   ]
  },
  {
   "cell_type": "markdown",
   "metadata": {},
   "source": [
    "### Task 1.4 Design CNN model\n",
    "**IMPORTANT**: For each model you create, you need to conduct analysis in a markdown cell below the code cell containing the model's training. Your analysis should include plots, comments on its accuracy/loss, etc. Try to predict images and see what images your model is correctly classifying, see if your model is overfitting or not. For each layer you add, specify its function and then comment on its results."
   ]
  },
  {
   "cell_type": "code",
   "execution_count": 82,
   "metadata": {},
   "outputs": [],
   "source": [
    "# Design a CNN to predict classes for the images in the dataset. Try to keep your network shallow since you'll be training your model on your PC as well.\n",
    "input_img = Input(shape=input_shape_cifar, name='input_img')\n",
    "l = Conv2D(1, kernel_size=(4,4), activation='relu')(input_img)\n",
    "l = Conv2D(10, (3,3), activation='relu')(l)\n",
    "l = Flatten()(l)\n",
    "l = Dense(128, activation='relu')(l)\n",
    "output_class = Dense(len(classes), activation='softmax')(l)\n",
    "model_initial = Model(inputs=input_img, outputs=output_class)"
   ]
  },
  {
   "cell_type": "markdown",
   "metadata": {},
   "source": [
    "<h2>Analysis</h2>\n",
    "<p>Model is getting a really high accuracy this might indicate that model is overfitting. I have created a very simple model that uses 2 Conv Layers and then Flattens it and then 1 Dense Layer before finally the outputlayer. Validation Accuracy is around 45% which indicates that model is overfitting to the training examples</p>"
   ]
  },
  {
   "cell_type": "markdown",
   "metadata": {},
   "source": [
    "#### Compile model and plot"
   ]
  },
  {
   "cell_type": "code",
   "execution_count": 83,
   "metadata": {},
   "outputs": [],
   "source": [
    "model_name = 'base_model'\n",
    "\n",
    "if not os.path.exists('./'+model_name):\n",
    "    os.mkdir(model_name)\n",
    "   "
   ]
  },
  {
   "cell_type": "code",
   "execution_count": 84,
   "metadata": {},
   "outputs": [],
   "source": [
    " # You may tweak the learning rate\n",
    "adam = Adam(lr=0.001)\n",
    "\n",
    "# Use the appropriate loss function and compile the model\n",
    "model_initial.compile(loss='categorical_crossentropy',\n",
    "              optimizer=adam, \n",
    "              metrics=['accuracy'])"
   ]
  },
  {
   "cell_type": "code",
   "execution_count": 85,
   "metadata": {},
   "outputs": [
    {
     "data": {
      "image/png": "[encoded data removed]",
      "text/plain": [
       "<IPython.core.display.Image object>"
      ]
     },
     "execution_count": 85,
     "metadata": {},
     "output_type": "execute_result"
    }
   ],
   "source": [
    "plot_model(model_initial, model_name+'/'+model_name+'.png')"
   ]
  },
  {
   "cell_type": "code",
   "execution_count": 86,
   "metadata": {},
   "outputs": [
    {
     "name": "stdout",
     "output_type": "stream",
     "text": [
      "Model: \"model_10\"\n",
      "_________________________________________________________________\n",
      "Layer (type)                 Output Shape              Param #   \n",
      "=================================================================\n",
      "input_img (InputLayer)       (None, 32, 32, 3)         0         \n",
      "_________________________________________________________________\n",
      "conv2d_13 (Conv2D)           (None, 29, 29, 1)         49        \n",
      "_________________________________________________________________\n",
      "conv2d_14 (Conv2D)           (None, 27, 27, 10)        100       \n",
      "_________________________________________________________________\n",
      "flatten_7 (Flatten)          (None, 7290)              0         \n",
      "_________________________________________________________________\n",
      "dense_13 (Dense)             (None, 128)               933248    \n",
      "_________________________________________________________________\n",
      "dense_14 (Dense)             (None, 10)                1290      \n",
      "=================================================================\n",
      "Total params: 934,687\n",
      "Trainable params: 934,687\n",
      "Non-trainable params: 0\n",
      "_________________________________________________________________\n"
     ]
    }
   ],
   "source": [
    "model_initial.summary()"
   ]
  },
  {
   "cell_type": "markdown",
   "metadata": {},
   "source": [
    "#### Task 1.5 Training model\n",
    "In order to train the model, instead of \"model.fit\" function, we will use the \"model.fit_generator\" function for training. For details check out [keras documentation](https://keras.io/models/sequential/)"
   ]
  },
  {
   "cell_type": "code",
   "execution_count": 87,
   "metadata": {},
   "outputs": [],
   "source": [
    "class LRTensorBoard(TensorBoard):\n",
    "    def __init__(self, *args, **kwargs):\n",
    "        super(LRTensorBoard, self).__init__(*args, **kwargs)\n",
    "\n",
    "    def on_epoch_end(self, epoch, logs=None):\n",
    "        logs.update({'lr': K.eval(self.model.optimizer.lr)})\n",
    "        super(LRTensorBoard, self).on_epoch_end(epoch, logs)"
   ]
  },
  {
   "cell_type": "code",
   "execution_count": 88,
   "metadata": {},
   "outputs": [],
   "source": [
    "# Add the following callbacks to your Model: ModelCheckpoin, CSVLogger, ReduceLROnPlateau. The callback for Tensorboard has already been provided to you.\n",
    "\n",
    "checkpoint = ModelCheckpoint(model_name+'/'+model_name+'-{epoch:02d}-{val_loss:.2f}.h5', \n",
    "                             monitor='val_loss', verbose=1, save_best_only=True, mode='auto')\n",
    "cvslogger = CSVLogger(model_name+'/logs.csv', separator=',', append=True)\n",
    "reducelr = ReduceLROnPlateau(monitor='val_loss', factor=0.2, patience=3, min_lr=0.000001, min_delta=0.03)\n",
    "tensorboard = LRTensorBoard(log_dir='./'+model_name, histogram_freq=0, write_graph=True, write_grads=1, \n",
    "                            batch_size=batch_size, write_images=True)\n",
    "\n",
    "callbacks = [checkpoint, tensorboard, cvslogger, reducelr]"
   ]
  },
  {
   "cell_type": "markdown",
   "metadata": {},
   "source": [
    "#### Task 1.5.1 \n",
    "Train model without using any pre-processing scheme"
   ]
  },
  {
   "cell_type": "code",
   "execution_count": 89,
   "metadata": {},
   "outputs": [],
   "source": [
    "# Create three generators: For training your model, for validation, for testing.\n",
    "train_data = data_generator(train_files, batch_size=batch_size)\n",
    "test_data = data_generator(test_files, batch_size=batch_size)\n",
    "val_data = data_generator(val_files, batch_size=batch_size)"
   ]
  },
  {
   "cell_type": "code",
   "execution_count": 90,
   "metadata": {
    "scrolled": true
   },
   "outputs": [
    {
     "name": "stdout",
     "output_type": "stream",
     "text": [
      "Epoch 1/25\n",
      "625/625 [==============================] - 14s 23ms/step - loss: 2.2787 - accuracy: 0.1301 - val_loss: 2.0776 - val_accuracy: 0.2208\n",
      "\n",
      "Epoch 00001: val_loss improved from inf to 2.07763, saving model to base_model/base_model-01-2.08.h5\n",
      "Epoch 2/25\n",
      "625/625 [==============================] - 14s 22ms/step - loss: 1.8436 - accuracy: 0.3413 - val_loss: 1.5910 - val_accuracy: 0.4310\n",
      "\n",
      "Epoch 00002: val_loss improved from 2.07763 to 1.59096, saving model to base_model/base_model-02-1.59.h5\n",
      "Epoch 3/25\n",
      "625/625 [==============================] - 14s 23ms/step - loss: 1.4040 - accuracy: 0.5092 - val_loss: 1.9423 - val_accuracy: 0.4260\n",
      "\n",
      "Epoch 00003: val_loss did not improve from 1.59096\n",
      "Epoch 4/25\n",
      "625/625 [==============================] - 14s 23ms/step - loss: 1.0696 - accuracy: 0.6309 - val_loss: 1.6882 - val_accuracy: 0.4401\n",
      "\n",
      "Epoch 00004: val_loss did not improve from 1.59096\n",
      "Epoch 5/25\n",
      "625/625 [==============================] - 14s 23ms/step - loss: 0.7742 - accuracy: 0.7365 - val_loss: 2.2372 - val_accuracy: 0.3906\n",
      "\n",
      "Epoch 00005: val_loss did not improve from 1.59096\n",
      "Epoch 6/25\n",
      "625/625 [==============================] - 14s 22ms/step - loss: 0.4376 - accuracy: 0.8539 - val_loss: 2.0626 - val_accuracy: 0.4467\n",
      "\n",
      "Epoch 00006: val_loss did not improve from 1.59096\n",
      "Epoch 7/25\n",
      "625/625 [==============================] - 14s 23ms/step - loss: 0.2832 - accuracy: 0.9164 - val_loss: 2.1200 - val_accuracy: 0.4455\n",
      "\n",
      "Epoch 00007: val_loss did not improve from 1.59096\n",
      "Epoch 8/25\n",
      "625/625 [==============================] - 14s 23ms/step - loss: 0.1918 - accuracy: 0.9512 - val_loss: 2.7291 - val_accuracy: 0.4419\n",
      "\n",
      "Epoch 00008: val_loss did not improve from 1.59096\n",
      "Epoch 9/25\n",
      "625/625 [==============================] - 14s 23ms/step - loss: 0.1532 - accuracy: 0.9604 - val_loss: 2.3139 - val_accuracy: 0.4452\n",
      "\n",
      "Epoch 00009: val_loss did not improve from 1.59096\n",
      "Epoch 10/25\n",
      "625/625 [==============================] - 14s 23ms/step - loss: 0.1275 - accuracy: 0.9707 - val_loss: 3.0472 - val_accuracy: 0.4442\n",
      "\n",
      "Epoch 00010: val_loss did not improve from 1.59096\n",
      "Epoch 11/25\n",
      "625/625 [==============================] - 14s 23ms/step - loss: 0.1096 - accuracy: 0.9776 - val_loss: 3.2611 - val_accuracy: 0.4439\n",
      "\n",
      "Epoch 00011: val_loss did not improve from 1.59096\n",
      "Epoch 12/25\n",
      "625/625 [==============================] - 14s 23ms/step - loss: 0.1038 - accuracy: 0.9792 - val_loss: 2.1588 - val_accuracy: 0.4456\n",
      "\n",
      "Epoch 00012: val_loss did not improve from 1.59096\n",
      "Epoch 13/25\n",
      "625/625 [==============================] - 14s 23ms/step - loss: 0.0992 - accuracy: 0.9805 - val_loss: 3.6792 - val_accuracy: 0.4455\n",
      "\n",
      "Epoch 00013: val_loss did not improve from 1.59096\n",
      "Epoch 14/25\n",
      "625/625 [==============================] - 14s 23ms/step - loss: 0.0953 - accuracy: 0.9816 - val_loss: 3.4619 - val_accuracy: 0.4458\n",
      "\n",
      "Epoch 00014: val_loss did not improve from 1.59096\n",
      "Epoch 15/25\n",
      "625/625 [==============================] - 14s 22ms/step - loss: 0.1068 - accuracy: 0.9771 - val_loss: 2.8262 - val_accuracy: 0.4444\n",
      "\n",
      "Epoch 00015: val_loss did not improve from 1.59096\n",
      "Epoch 16/25\n",
      "625/625 [==============================] - 14s 23ms/step - loss: 0.1040 - accuracy: 0.9774 - val_loss: 3.4014 - val_accuracy: 0.4442\n",
      "\n",
      "Epoch 00016: val_loss did not improve from 1.59096\n",
      "Epoch 17/25\n",
      "625/625 [==============================] - 14s 23ms/step - loss: 0.1033 - accuracy: 0.9778 - val_loss: 3.8977 - val_accuracy: 0.4443\n",
      "\n",
      "Epoch 00017: val_loss did not improve from 1.59096\n",
      "Epoch 18/25\n",
      "625/625 [==============================] - 14s 22ms/step - loss: 0.1029 - accuracy: 0.9779 - val_loss: 3.3134 - val_accuracy: 0.4440\n",
      "\n",
      "Epoch 00018: val_loss did not improve from 1.59096\n",
      "Epoch 19/25\n",
      "625/625 [==============================] - 14s 23ms/step - loss: 0.1023 - accuracy: 0.9782 - val_loss: 3.8455 - val_accuracy: 0.4436\n",
      "\n",
      "Epoch 00019: val_loss did not improve from 1.59096\n",
      "Epoch 20/25\n",
      "625/625 [==============================] - 14s 23ms/step - loss: 0.1017 - accuracy: 0.9784 - val_loss: 3.1062 - val_accuracy: 0.4442\n",
      "\n",
      "Epoch 00020: val_loss did not improve from 1.59096\n",
      "Epoch 21/25\n",
      "625/625 [==============================] - 14s 22ms/step - loss: 0.1011 - accuracy: 0.9786 - val_loss: 2.8303 - val_accuracy: 0.4433\n",
      "\n",
      "Epoch 00021: val_loss did not improve from 1.59096\n",
      "Epoch 22/25\n",
      "625/625 [==============================] - 14s 23ms/step - loss: 0.1006 - accuracy: 0.9788 - val_loss: 2.8552 - val_accuracy: 0.4429\n",
      "\n",
      "Epoch 00022: val_loss did not improve from 1.59096\n",
      "Epoch 23/25\n",
      "625/625 [==============================] - 14s 23ms/step - loss: 0.1000 - accuracy: 0.9790 - val_loss: 4.5776 - val_accuracy: 0.4429\n",
      "\n",
      "Epoch 00023: val_loss did not improve from 1.59096\n",
      "Epoch 24/25\n",
      "625/625 [==============================] - 14s 23ms/step - loss: 0.0994 - accuracy: 0.9791 - val_loss: 2.9337 - val_accuracy: 0.4437\n",
      "\n",
      "Epoch 00024: val_loss did not improve from 1.59096\n",
      "Epoch 25/25\n",
      "625/625 [==============================] - 14s 23ms/step - loss: 0.0989 - accuracy: 0.9794 - val_loss: 4.0103 - val_accuracy: 0.4432\n",
      "\n",
      "Epoch 00025: val_loss did not improve from 1.59096\n"
     ]
    }
   ],
   "source": [
    "# Start training your model here\n",
    "hist_initial = model_initial.fit(train_data, steps_per_epoch=(len(train_files)//batch_size), epochs=epochs, validation_data=val_data, validation_steps=(len(val_files)//batch_size), callbacks=callbacks)\n",
    "all_histories.append(hist_initial)\n",
    "model_names.append(model_name)"
   ]
  },
  {
   "cell_type": "markdown",
   "metadata": {},
   "source": [
    "#### Task 1.5.2 \n",
    "Train model by using data preprocessing i.e normalization or mean shift. "
   ]
  },
  {
   "cell_type": "code",
   "execution_count": 91,
   "metadata": {},
   "outputs": [],
   "source": [
    "input_img = Input(shape=input_shape_cifar, name='input_img')\n",
    "l = Conv2D(1, kernel_size=(4,4), activation='relu')(input_img)\n",
    "l = Conv2D(10, (3,3), activation='relu')(l)\n",
    "l = Flatten()(l)\n",
    "l = Dense(128, activation='relu')(l)\n",
    "output_class = Dense(len(classes), activation='softmax')(l)\n",
    "model_preprocessed = Model(inputs=input_img, outputs=output_class)"
   ]
  },
  {
   "cell_type": "markdown",
   "metadata": {},
   "source": [
    "<h2>Analysis</h2>\n",
    "<p>Model is still getting a high accuracy but it is reduced compared to the last time. I didn't expect this result so I tried to run it multiple times just to make sure everything was okay. According to my understanding normalization should not have effect on the results but only on the speed that model is trained on. Model is identical to previous model with the addition of preprocessing the the data generators. The Validation loss improved from last time to being 55%</p>"
   ]
  },
  {
   "cell_type": "code",
   "execution_count": 92,
   "metadata": {},
   "outputs": [],
   "source": [
    "model_name = 'model_preprocessed_input'\n",
    "\n",
    "if not os.path.exists('./'+model_name):\n",
    "    os.mkdir(model_name)\n",
    "    "
   ]
  },
  {
   "cell_type": "code",
   "execution_count": 93,
   "metadata": {},
   "outputs": [],
   "source": [
    "# You may tweak this Learning Rate\n",
    "adam = Adam(lr=0.001)\n",
    "\n",
    "# Compile your model using an appropriate loss\n",
    "model_preprocessed.compile(loss='categorical_crossentropy', \n",
    "              optimizer=adam, \n",
    "              metrics=['accuracy'])"
   ]
  },
  {
   "cell_type": "code",
   "execution_count": 94,
   "metadata": {},
   "outputs": [
    {
     "data": {
      "image/png": "[encoded data removed]",
      "text/plain": [
       "<IPython.core.display.Image object>"
      ]
     },
     "execution_count": 94,
     "metadata": {},
     "output_type": "execute_result"
    }
   ],
   "source": [
    "plot_model(model_preprocessed, model_name+'/'+model_name+'.png')"
   ]
  },
  {
   "cell_type": "code",
   "execution_count": 95,
   "metadata": {},
   "outputs": [
    {
     "name": "stdout",
     "output_type": "stream",
     "text": [
      "Model: \"model_11\"\n",
      "_________________________________________________________________\n",
      "Layer (type)                 Output Shape              Param #   \n",
      "=================================================================\n",
      "input_img (InputLayer)       (None, 32, 32, 3)         0         \n",
      "_________________________________________________________________\n",
      "conv2d_15 (Conv2D)           (None, 29, 29, 1)         49        \n",
      "_________________________________________________________________\n",
      "conv2d_16 (Conv2D)           (None, 27, 27, 10)        100       \n",
      "_________________________________________________________________\n",
      "flatten_8 (Flatten)          (None, 7290)              0         \n",
      "_________________________________________________________________\n",
      "dense_15 (Dense)             (None, 128)               933248    \n",
      "_________________________________________________________________\n",
      "dense_16 (Dense)             (None, 10)                1290      \n",
      "=================================================================\n",
      "Total params: 934,687\n",
      "Trainable params: 934,687\n",
      "Non-trainable params: 0\n",
      "_________________________________________________________________\n"
     ]
    }
   ],
   "source": [
    "model_preprocessed.summary()"
   ]
  },
  {
   "cell_type": "code",
   "execution_count": 96,
   "metadata": {},
   "outputs": [],
   "source": [
    "# Add the following callbacks: ModelCheckpoint, CSVLogger. The callback for tensorboard has been provided to you.\n",
    "\n",
    "checkpoint = ModelCheckpoint(model_name+'/'+model_name+'-{epoch:02d}-{val_loss:.2f}.h5', \n",
    "                             monitor='val_loss', verbose=1, save_best_only=True, mode='auto')\n",
    "cvslogger = CSVLogger(model_name+'/logs.csv', separator=',', append=True)\n",
    "reducelr = ReduceLROnPlateau(monitor='val_loss', factor=0.2, patience=3, min_lr=0.000001, min_delta=0.03)\n",
    "tensorboard = LRTensorBoard(log_dir='./'+model_name, histogram_freq=0, write_graph=True, write_grads=1, \n",
    "                            batch_size=batch_size, write_images=True)\n",
    "\n",
    "callbacks = [checkpoint, tensorboard, cvslogger, reducelr]"
   ]
  },
  {
   "cell_type": "code",
   "execution_count": 97,
   "metadata": {},
   "outputs": [],
   "source": [
    "# Create three generators again\n",
    "train_data = data_generator(train_files, batch_size=batch_size, preprocessing=preprocessing_norm)\n",
    "test_data = data_generator(test_files, batch_size=batch_size, preprocessing=preprocessing_norm)\n",
    "val_data = data_generator(val_files, batch_size=batch_size, preprocessing=preprocessing_norm)"
   ]
  },
  {
   "cell_type": "code",
   "execution_count": 98,
   "metadata": {},
   "outputs": [
    {
     "name": "stdout",
     "output_type": "stream",
     "text": [
      "Epoch 1/25\n",
      "625/625 [==============================] - 15s 23ms/step - loss: 1.7993 - accuracy: 0.3447 - val_loss: 1.4080 - val_accuracy: 0.4485\n",
      "\n",
      "Epoch 00001: val_loss improved from inf to 1.40796, saving model to model_preprocessed_input/model_preprocessed_input-01-1.41.h5\n",
      "Epoch 2/25\n",
      "625/625 [==============================] - 14s 23ms/step - loss: 1.3973 - accuracy: 0.5073 - val_loss: 1.2539 - val_accuracy: 0.4976\n",
      "\n",
      "Epoch 00002: val_loss improved from 1.40796 to 1.25392, saving model to model_preprocessed_input/model_preprocessed_input-02-1.25.h5\n",
      "Epoch 3/25\n",
      "625/625 [==============================] - 14s 23ms/step - loss: 1.2364 - accuracy: 0.5692 - val_loss: 1.4169 - val_accuracy: 0.5165\n",
      "\n",
      "Epoch 00003: val_loss did not improve from 1.25392\n",
      "Epoch 4/25\n",
      "625/625 [==============================] - 14s 23ms/step - loss: 1.1025 - accuracy: 0.6190 - val_loss: 1.3284 - val_accuracy: 0.5281\n",
      "\n",
      "Epoch 00004: val_loss did not improve from 1.25392\n",
      "Epoch 5/25\n",
      "625/625 [==============================] - 14s 23ms/step - loss: 0.9885 - accuracy: 0.6612 - val_loss: 1.5646 - val_accuracy: 0.5344\n",
      "\n",
      "Epoch 00005: val_loss did not improve from 1.25392\n",
      "Epoch 6/25\n",
      "625/625 [==============================] - 14s 23ms/step - loss: 0.8170 - accuracy: 0.7257 - val_loss: 1.1951 - val_accuracy: 0.5510\n",
      "\n",
      "Epoch 00006: val_loss improved from 1.25392 to 1.19508, saving model to model_preprocessed_input/model_preprocessed_input-06-1.20.h5\n",
      "Epoch 7/25\n",
      "625/625 [==============================] - 14s 23ms/step - loss: 0.7757 - accuracy: 0.7413 - val_loss: 1.2102 - val_accuracy: 0.5515\n",
      "\n",
      "Epoch 00007: val_loss did not improve from 1.19508\n",
      "Epoch 8/25\n",
      "625/625 [==============================] - 14s 23ms/step - loss: 0.7418 - accuracy: 0.7558 - val_loss: 1.4599 - val_accuracy: 0.5522\n",
      "\n",
      "Epoch 00008: val_loss did not improve from 1.19508\n",
      "Epoch 9/25\n",
      "625/625 [==============================] - 14s 23ms/step - loss: 0.7103 - accuracy: 0.7677 - val_loss: 1.2384 - val_accuracy: 0.5527\n",
      "\n",
      "Epoch 00009: val_loss did not improve from 1.19508\n",
      "Epoch 10/25\n",
      "625/625 [==============================] - 14s 23ms/step - loss: 0.6720 - accuracy: 0.7824 - val_loss: 1.6936 - val_accuracy: 0.5590\n",
      "\n",
      "Epoch 00010: val_loss did not improve from 1.19508\n",
      "Epoch 11/25\n",
      "625/625 [==============================] - 14s 23ms/step - loss: 0.6618 - accuracy: 0.7864 - val_loss: 1.3592 - val_accuracy: 0.5591\n",
      "\n",
      "Epoch 00011: val_loss did not improve from 1.19508\n",
      "Epoch 12/25\n",
      "625/625 [==============================] - 14s 23ms/step - loss: 0.6546 - accuracy: 0.7892 - val_loss: 1.2708 - val_accuracy: 0.5582\n",
      "\n",
      "Epoch 00012: val_loss did not improve from 1.19508\n",
      "Epoch 13/25\n",
      "625/625 [==============================] - 14s 23ms/step - loss: 0.6450 - accuracy: 0.7922 - val_loss: 1.3208 - val_accuracy: 0.5585\n",
      "\n",
      "Epoch 00013: val_loss did not improve from 1.19508\n",
      "Epoch 14/25\n",
      "625/625 [==============================] - 14s 23ms/step - loss: 0.6426 - accuracy: 0.7929 - val_loss: 1.1434 - val_accuracy: 0.5580\n",
      "\n",
      "Epoch 00014: val_loss improved from 1.19508 to 1.14340, saving model to model_preprocessed_input/model_preprocessed_input-14-1.14.h5\n",
      "Epoch 15/25\n",
      "625/625 [==============================] - 15s 23ms/step - loss: 0.6410 - accuracy: 0.7933 - val_loss: 1.4131 - val_accuracy: 0.5580\n",
      "\n",
      "Epoch 00015: val_loss did not improve from 1.14340\n",
      "Epoch 16/25\n",
      "625/625 [==============================] - 14s 23ms/step - loss: 0.6396 - accuracy: 0.7940 - val_loss: 1.3414 - val_accuracy: 0.5578\n",
      "\n",
      "Epoch 00016: val_loss did not improve from 1.14340\n",
      "Epoch 17/25\n",
      "625/625 [==============================] - 14s 23ms/step - loss: 0.6381 - accuracy: 0.7946 - val_loss: 1.3880 - val_accuracy: 0.5581\n",
      "\n",
      "Epoch 00017: val_loss did not improve from 1.14340\n",
      "Epoch 18/25\n",
      "625/625 [==============================] - 14s 23ms/step - loss: 0.6358 - accuracy: 0.7954 - val_loss: 1.4570 - val_accuracy: 0.5590\n",
      "\n",
      "Epoch 00018: val_loss did not improve from 1.14340\n",
      "Epoch 19/25\n",
      "625/625 [==============================] - 14s 23ms/step - loss: 0.6354 - accuracy: 0.7954 - val_loss: 1.5014 - val_accuracy: 0.5587\n",
      "\n",
      "Epoch 00019: val_loss did not improve from 1.14340\n",
      "Epoch 20/25\n",
      "625/625 [==============================] - 14s 23ms/step - loss: 0.6350 - accuracy: 0.7957 - val_loss: 1.1746 - val_accuracy: 0.5593\n",
      "\n",
      "Epoch 00020: val_loss did not improve from 1.14340\n",
      "Epoch 21/25\n",
      "625/625 [==============================] - 14s 23ms/step - loss: 0.6346 - accuracy: 0.7959 - val_loss: 1.3542 - val_accuracy: 0.5585\n",
      "\n",
      "Epoch 00021: val_loss did not improve from 1.14340\n",
      "Epoch 22/25\n",
      "625/625 [==============================] - 14s 23ms/step - loss: 0.6344 - accuracy: 0.7960 - val_loss: 1.0299 - val_accuracy: 0.5585\n",
      "\n",
      "Epoch 00022: val_loss improved from 1.14340 to 1.02990, saving model to model_preprocessed_input/model_preprocessed_input-22-1.03.h5\n",
      "Epoch 23/25\n",
      "625/625 [==============================] - 14s 23ms/step - loss: 0.6342 - accuracy: 0.7961 - val_loss: 1.3897 - val_accuracy: 0.5575\n",
      "\n",
      "Epoch 00023: val_loss did not improve from 1.02990\n",
      "Epoch 24/25\n",
      "625/625 [==============================] - 14s 23ms/step - loss: 0.6341 - accuracy: 0.7961 - val_loss: 1.4089 - val_accuracy: 0.5587\n",
      "\n",
      "Epoch 00024: val_loss did not improve from 1.02990\n",
      "Epoch 25/25\n",
      "625/625 [==============================] - 14s 23ms/step - loss: 0.6339 - accuracy: 0.7962 - val_loss: 1.6519 - val_accuracy: 0.5589\n",
      "\n",
      "Epoch 00025: val_loss did not improve from 1.02990\n"
     ]
    }
   ],
   "source": [
    "hist_preprocessed = model_preprocessed.fit(train_data, steps_per_epoch=(len(train_files)//batch_size), epochs=epochs, validation_data=val_data, validation_steps=(len(val_files)//batch_size), callbacks=callbacks)\n",
    "all_histories.append(hist_preprocessed)\n",
    "model_names.append(model_name)"
   ]
  },
  {
   "cell_type": "markdown",
   "metadata": {},
   "source": [
    "### Task 2.1 Pooling\n",
    "Now, you need to modify the model by adding pooling layer(s). Pooling could be average pooling or max pooling. You can use the size and stride for pooling of your choice. \n",
    "<br> \n",
    "Modify the network by introducing pooling layer and train the model using the __fit_generator__ function. "
   ]
  },
  {
   "cell_type": "code",
   "execution_count": 99,
   "metadata": {
    "slideshow": {
     "slide_type": "-"
    }
   },
   "outputs": [],
   "source": [
    "model_name = 'model_pooling'\n",
    "\n",
    "input_img = Input(shape=input_shape_cifar, name='input_img')\n",
    "l = Conv2D(1, kernel_size=(4,4), activation='relu')(input_img)\n",
    "l = MaxPooling2D(pool_size=(2, 2))(l)\n",
    "l = Conv2D(10, (3,3), activation='relu')(l)\n",
    "l = MaxPooling2D(pool_size=(2, 2))(l)\n",
    "l = Flatten()(l)\n",
    "l = Dense(128, activation='relu')(l)\n",
    "output_class = Dense(len(classes), activation='softmax')(l)\n",
    "model_pooled = Model(inputs=input_img, outputs=output_class)\n",
    "\n",
    "if not os.path.exists('./'+model_name):\n",
    "    os.mkdir(model_name)"
   ]
  },
  {
   "cell_type": "code",
   "execution_count": 100,
   "metadata": {
    "slideshow": {
     "slide_type": "-"
    }
   },
   "outputs": [],
   "source": [
    "adam = Adam(lr=0.001)\n",
    "model_pooled.compile(loss='categorical_crossentropy', \n",
    "              optimizer=adam, \n",
    "              metrics=['accuracy'])"
   ]
  },
  {
   "cell_type": "code",
   "execution_count": 101,
   "metadata": {
    "slideshow": {
     "slide_type": "-"
    }
   },
   "outputs": [
    {
     "name": "stdout",
     "output_type": "stream",
     "text": [
      "Model: \"model_12\"\n",
      "_________________________________________________________________\n",
      "Layer (type)                 Output Shape              Param #   \n",
      "=================================================================\n",
      "input_img (InputLayer)       (None, 32, 32, 3)         0         \n",
      "_________________________________________________________________\n",
      "conv2d_17 (Conv2D)           (None, 29, 29, 1)         49        \n",
      "_________________________________________________________________\n",
      "max_pooling2d_7 (MaxPooling2 (None, 14, 14, 1)         0         \n",
      "_________________________________________________________________\n",
      "conv2d_18 (Conv2D)           (None, 12, 12, 10)        100       \n",
      "_________________________________________________________________\n",
      "max_pooling2d_8 (MaxPooling2 (None, 6, 6, 10)          0         \n",
      "_________________________________________________________________\n",
      "flatten_9 (Flatten)          (None, 360)               0         \n",
      "_________________________________________________________________\n",
      "dense_17 (Dense)             (None, 128)               46208     \n",
      "_________________________________________________________________\n",
      "dense_18 (Dense)             (None, 10)                1290      \n",
      "=================================================================\n",
      "Total params: 47,647\n",
      "Trainable params: 47,647\n",
      "Non-trainable params: 0\n",
      "_________________________________________________________________\n"
     ]
    }
   ],
   "source": [
    "plot_model(model_pooled, model_name+'/'+model_name+'.png')\n",
    "model_pooled.summary()"
   ]
  },
  {
   "cell_type": "code",
   "execution_count": 102,
   "metadata": {},
   "outputs": [],
   "source": [
    "# Add the following callbacks: ModelCheckpoint, CSVLogger\n",
    "checkpoint = ModelCheckpoint(model_name+'/'+model_name+'-{epoch:02d}-{val_loss:.2f}.h5', \n",
    "                             monitor='val_loss', verbose=1, save_best_only=True, mode='auto')\n",
    "cvslogger = CSVLogger(model_name+'/logs.csv', separator=',', append=True)\n",
    "tensorboard = LRTensorBoard(log_dir='./'+model_name, histogram_freq=0, write_graph=True, write_grads=1, \n",
    "                            batch_size=batch_size, write_images=True)\n",
    "\n",
    "callbacks = [checkpoint, tensorboard, cvslogger]"
   ]
  },
  {
   "cell_type": "code",
   "execution_count": 103,
   "metadata": {},
   "outputs": [],
   "source": [
    "# Create generators\n",
    "train_data = data_generator(train_files, batch_size=batch_size)\n",
    "test_data = data_generator(test_files, batch_size=batch_size)\n",
    "val_data = data_generator(val_files, batch_size=batch_size)"
   ]
  },
  {
   "cell_type": "code",
   "execution_count": 104,
   "metadata": {
    "scrolled": true
   },
   "outputs": [
    {
     "name": "stdout",
     "output_type": "stream",
     "text": [
      "Epoch 1/25\n",
      "625/625 [==============================] - 12s 19ms/step - loss: 3.5263 - accuracy: 0.1459 - val_loss: 2.2185 - val_accuracy: 0.1520\n",
      "\n",
      "Epoch 00001: val_loss improved from inf to 2.21847, saving model to model_pooling/model_pooling-01-2.22.h5\n",
      "Epoch 2/25\n",
      "625/625 [==============================] - 12s 18ms/step - loss: 2.2314 - accuracy: 0.1709 - val_loss: 2.2005 - val_accuracy: 0.1759\n",
      "\n",
      "Epoch 00002: val_loss improved from 2.21847 to 2.20053, saving model to model_pooling/model_pooling-02-2.20.h5\n",
      "Epoch 3/25\n",
      "625/625 [==============================] - 12s 19ms/step - loss: 2.1591 - accuracy: 0.2068 - val_loss: 2.0293 - val_accuracy: 0.2168\n",
      "\n",
      "Epoch 00003: val_loss improved from 2.20053 to 2.02930, saving model to model_pooling/model_pooling-03-2.03.h5\n",
      "Epoch 4/25\n",
      "625/625 [==============================] - 12s 19ms/step - loss: 2.0284 - accuracy: 0.2605 - val_loss: 1.8486 - val_accuracy: 0.2812\n",
      "\n",
      "Epoch 00004: val_loss improved from 2.02930 to 1.84862, saving model to model_pooling/model_pooling-04-1.85.h5\n",
      "Epoch 5/25\n",
      "625/625 [==============================] - 12s 19ms/step - loss: 1.7829 - accuracy: 0.3457 - val_loss: 1.7897 - val_accuracy: 0.3891\n",
      "\n",
      "Epoch 00005: val_loss improved from 1.84862 to 1.78969, saving model to model_pooling/model_pooling-05-1.79.h5\n",
      "Epoch 6/25\n",
      "625/625 [==============================] - 12s 19ms/step - loss: 1.5944 - accuracy: 0.4252 - val_loss: 1.3661 - val_accuracy: 0.4409\n",
      "\n",
      "Epoch 00006: val_loss improved from 1.78969 to 1.36607, saving model to model_pooling/model_pooling-06-1.37.h5\n",
      "Epoch 7/25\n",
      "625/625 [==============================] - 12s 19ms/step - loss: 1.4961 - accuracy: 0.4663 - val_loss: 1.4095 - val_accuracy: 0.4583\n",
      "\n",
      "Epoch 00007: val_loss did not improve from 1.36607\n",
      "Epoch 8/25\n",
      "625/625 [==============================] - 12s 19ms/step - loss: 1.4282 - accuracy: 0.4931 - val_loss: 1.4502 - val_accuracy: 0.4658\n",
      "\n",
      "Epoch 00008: val_loss did not improve from 1.36607\n",
      "Epoch 9/25\n",
      "625/625 [==============================] - 12s 19ms/step - loss: 1.3744 - accuracy: 0.5120 - val_loss: 1.4708 - val_accuracy: 0.4737\n",
      "\n",
      "Epoch 00009: val_loss did not improve from 1.36607\n",
      "Epoch 10/25\n",
      "625/625 [==============================] - 12s 19ms/step - loss: 1.3241 - accuracy: 0.5302 - val_loss: 1.6710 - val_accuracy: 0.4748\n",
      "\n",
      "Epoch 00010: val_loss did not improve from 1.36607\n",
      "Epoch 11/25\n",
      "625/625 [==============================] - 12s 19ms/step - loss: 1.2796 - accuracy: 0.5489 - val_loss: 1.8072 - val_accuracy: 0.4765\n",
      "\n",
      "Epoch 00011: val_loss did not improve from 1.36607\n",
      "Epoch 12/25\n",
      "625/625 [==============================] - 12s 18ms/step - loss: 1.2478 - accuracy: 0.5629 - val_loss: 1.3827 - val_accuracy: 0.4738\n",
      "\n",
      "Epoch 00012: val_loss did not improve from 1.36607\n",
      "Epoch 13/25\n",
      "625/625 [==============================] - 12s 19ms/step - loss: 1.2136 - accuracy: 0.5746 - val_loss: 1.6152 - val_accuracy: 0.4763\n",
      "\n",
      "Epoch 00013: val_loss did not improve from 1.36607\n",
      "Epoch 14/25\n",
      "625/625 [==============================] - 12s 19ms/step - loss: 1.1768 - accuracy: 0.5869 - val_loss: 1.5173 - val_accuracy: 0.4762\n",
      "\n",
      "Epoch 00014: val_loss did not improve from 1.36607\n",
      "Epoch 15/25\n",
      "625/625 [==============================] - 12s 19ms/step - loss: 1.1467 - accuracy: 0.5976 - val_loss: 1.8895 - val_accuracy: 0.4726\n",
      "\n",
      "Epoch 00015: val_loss did not improve from 1.36607\n",
      "Epoch 16/25\n",
      "625/625 [==============================] - 12s 19ms/step - loss: 1.1248 - accuracy: 0.6059 - val_loss: 1.7283 - val_accuracy: 0.4666\n",
      "\n",
      "Epoch 00016: val_loss did not improve from 1.36607\n",
      "Epoch 17/25\n",
      "625/625 [==============================] - 12s 19ms/step - loss: 1.1183 - accuracy: 0.6068 - val_loss: 1.9773 - val_accuracy: 0.4637\n",
      "\n",
      "Epoch 00017: val_loss did not improve from 1.36607\n",
      "Epoch 18/25\n",
      "625/625 [==============================] - 12s 19ms/step - loss: 1.0903 - accuracy: 0.6177 - val_loss: 1.6838 - val_accuracy: 0.4575\n",
      "\n",
      "Epoch 00018: val_loss did not improve from 1.36607\n",
      "Epoch 19/25\n",
      "625/625 [==============================] - 12s 19ms/step - loss: 1.0654 - accuracy: 0.6252 - val_loss: 2.1274 - val_accuracy: 0.4570\n",
      "\n",
      "Epoch 00019: val_loss did not improve from 1.36607\n",
      "Epoch 20/25\n",
      "625/625 [==============================] - 12s 19ms/step - loss: 1.0395 - accuracy: 0.6362 - val_loss: 1.3367 - val_accuracy: 0.4588\n",
      "\n",
      "Epoch 00020: val_loss improved from 1.36607 to 1.33674, saving model to model_pooling/model_pooling-20-1.34.h5\n",
      "Epoch 21/25\n",
      "625/625 [==============================] - 12s 19ms/step - loss: 1.0161 - accuracy: 0.6460 - val_loss: 1.7803 - val_accuracy: 0.4557\n",
      "\n",
      "Epoch 00021: val_loss did not improve from 1.33674\n",
      "Epoch 22/25\n",
      "625/625 [==============================] - 12s 19ms/step - loss: 0.9926 - accuracy: 0.6510 - val_loss: 1.6001 - val_accuracy: 0.4504\n",
      "\n",
      "Epoch 00022: val_loss did not improve from 1.33674\n",
      "Epoch 23/25\n",
      "625/625 [==============================] - 12s 19ms/step - loss: 0.9756 - accuracy: 0.6557 - val_loss: 2.0891 - val_accuracy: 0.4508\n",
      "\n",
      "Epoch 00023: val_loss did not improve from 1.33674\n",
      "Epoch 24/25\n",
      "625/625 [==============================] - 12s 19ms/step - loss: 0.9645 - accuracy: 0.6609 - val_loss: 1.5685 - val_accuracy: 0.4439\n",
      "\n",
      "Epoch 00024: val_loss did not improve from 1.33674\n",
      "Epoch 25/25\n",
      "625/625 [==============================] - 12s 19ms/step - loss: 0.9616 - accuracy: 0.6630 - val_loss: 2.1376 - val_accuracy: 0.4487\n",
      "\n",
      "Epoch 00025: val_loss did not improve from 1.33674\n"
     ]
    }
   ],
   "source": [
    "hist_pooled = model_pooled.fit(train_data, steps_per_epoch=(len(train_files)//batch_size), epochs=epochs, validation_data=val_data, validation_steps=(len(val_files)//batch_size), callbacks=callbacks)\n",
    "all_histories.append(hist_pooled)\n",
    "model_names.append(model_name)"
   ]
  },
  {
   "cell_type": "markdown",
   "metadata": {},
   "source": [
    "<h2>Analysis</h2>\n",
    "<p>In this model I introduced 2 Max Pooling Layers one after each Conv Layer. I expected this to decrease the performance of my model and it did. Since we are losing some information after each layer but it did speed up to process of training models. Accuracy Overall (both validation and training) decreased with being val: 46% and train: 65%</p>"
   ]
  },
  {
   "cell_type": "markdown",
   "metadata": {},
   "source": [
    "### Task 3.1 Dropout\n",
    "Modify the network by introducing dropout layer(s) and train the model using the __fit_generator__ function. "
   ]
  },
  {
   "cell_type": "code",
   "execution_count": 105,
   "metadata": {},
   "outputs": [],
   "source": [
    "model_name = 'model_dropout'\n",
    "\n",
    "input_img = Input(shape=input_shape_cifar, name='input_img')\n",
    "l = Conv2D(1, kernel_size=(4,4), activation='relu')(input_img)\n",
    "l = MaxPooling2D(pool_size=(2, 2))(l)\n",
    "l = Dropout(rate=0.25)(l)\n",
    "l = Conv2D(10, (3,3), activation='relu')(l)\n",
    "l = MaxPooling2D(pool_size=(2, 2))(l)\n",
    "l = Flatten()(l)\n",
    "l = Dense(128, activation='relu')(l)\n",
    "l = Dropout(rate=0.3)(l)\n",
    "output_class = Dense(len(classes), activation='softmax')(l)\n",
    "model_dropout = Model(inputs=input_img, outputs=output_class)\n",
    "\n",
    "if not os.path.exists('./'+model_name):\n",
    "    os.mkdir(model_name)"
   ]
  },
  {
   "cell_type": "code",
   "execution_count": 106,
   "metadata": {},
   "outputs": [],
   "source": [
    "adam = Adam(lr=0.001)\n",
    "model_dropout.compile(loss='categorical_crossentropy', \n",
    "              optimizer=adam, \n",
    "              metrics=['accuracy'])"
   ]
  },
  {
   "cell_type": "code",
   "execution_count": 107,
   "metadata": {},
   "outputs": [
    {
     "name": "stdout",
     "output_type": "stream",
     "text": [
      "Model: \"model_13\"\n",
      "_________________________________________________________________\n",
      "Layer (type)                 Output Shape              Param #   \n",
      "=================================================================\n",
      "input_img (InputLayer)       (None, 32, 32, 3)         0         \n",
      "_________________________________________________________________\n",
      "conv2d_19 (Conv2D)           (None, 29, 29, 1)         49        \n",
      "_________________________________________________________________\n",
      "max_pooling2d_9 (MaxPooling2 (None, 14, 14, 1)         0         \n",
      "_________________________________________________________________\n",
      "dropout_5 (Dropout)          (None, 14, 14, 1)         0         \n",
      "_________________________________________________________________\n",
      "conv2d_20 (Conv2D)           (None, 12, 12, 10)        100       \n",
      "_________________________________________________________________\n",
      "max_pooling2d_10 (MaxPooling (None, 6, 6, 10)          0         \n",
      "_________________________________________________________________\n",
      "flatten_10 (Flatten)         (None, 360)               0         \n",
      "_________________________________________________________________\n",
      "dense_19 (Dense)             (None, 128)               46208     \n",
      "_________________________________________________________________\n",
      "dropout_6 (Dropout)          (None, 128)               0         \n",
      "_________________________________________________________________\n",
      "dense_20 (Dense)             (None, 10)                1290      \n",
      "=================================================================\n",
      "Total params: 47,647\n",
      "Trainable params: 47,647\n",
      "Non-trainable params: 0\n",
      "_________________________________________________________________\n"
     ]
    }
   ],
   "source": [
    "plot_model(model_dropout, model_name+'/'+model_name+'.png')\n",
    "model_dropout.summary()"
   ]
  },
  {
   "cell_type": "code",
   "execution_count": 108,
   "metadata": {},
   "outputs": [],
   "source": [
    "checkpoint = ModelCheckpoint(model_name+'/'+model_name+'-{epoch:02d}-{val_loss:.2f}.h5', \n",
    "                             monitor='val_loss', verbose=1, save_best_only=True, mode='auto')\n",
    "cvslogger = CSVLogger(model_name+'/logs.csv', separator=',', append=True)\n",
    "tensorboard = LRTensorBoard(log_dir='./'+model_name, histogram_freq=0, write_graph=True, write_grads=1, \n",
    "                            batch_size=batch_size, write_images=True)\n",
    "\n",
    "callbacks = [checkpoint, tensorboard, cvslogger]"
   ]
  },
  {
   "cell_type": "code",
   "execution_count": 134,
   "metadata": {},
   "outputs": [],
   "source": [
    "# Create three Generators\n",
    "train_data = data_generator(train_files, batch_size=batch_size)\n",
    "test_data = data_generator(test_files, batch_size=batch_size)\n",
    "val_data = data_generator(val_files, batch_size=batch_size)"
   ]
  },
  {
   "cell_type": "code",
   "execution_count": 135,
   "metadata": {
    "scrolled": true
   },
   "outputs": [
    {
     "name": "stdout",
     "output_type": "stream",
     "text": [
      "Epoch 1/25\n",
      "625/625 [==============================] - 13s 20ms/step - loss: 5.9236 - accuracy: 0.1627 - val_loss: 2.2109 - val_accuracy: 0.1683\n",
      "\n",
      "Epoch 00001: val_loss did not improve from 1.45312\n",
      "Epoch 2/25\n",
      "625/625 [==============================] - 12s 20ms/step - loss: 2.2779 - accuracy: 0.1642 - val_loss: 2.2958 - val_accuracy: 0.1682\n",
      "\n",
      "Epoch 00002: val_loss did not improve from 1.45312\n",
      "Epoch 3/25\n",
      "625/625 [==============================] - 12s 20ms/step - loss: 2.2332 - accuracy: 0.1632 - val_loss: 2.2870 - val_accuracy: 0.1699\n",
      "\n",
      "Epoch 00003: val_loss did not improve from 1.45312\n",
      "Epoch 4/25\n",
      "625/625 [==============================] - 12s 20ms/step - loss: 2.2114 - accuracy: 0.1623 - val_loss: 2.1213 - val_accuracy: 0.1744\n",
      "\n",
      "Epoch 00004: val_loss did not improve from 1.45312\n",
      "Epoch 5/25\n",
      "625/625 [==============================] - 12s 19ms/step - loss: 2.1969 - accuracy: 0.1661 - val_loss: 2.1312 - val_accuracy: 0.1832\n",
      "\n",
      "Epoch 00005: val_loss did not improve from 1.45312\n",
      "Epoch 6/25\n",
      "625/625 [==============================] - 12s 19ms/step - loss: 2.1647 - accuracy: 0.1714 - val_loss: 2.0795 - val_accuracy: 0.1924\n",
      "\n",
      "Epoch 00006: val_loss did not improve from 1.45312\n",
      "Epoch 7/25\n",
      "625/625 [==============================] - 12s 19ms/step - loss: 2.1360 - accuracy: 0.1808 - val_loss: 2.0486 - val_accuracy: 0.2071\n",
      "\n",
      "Epoch 00007: val_loss did not improve from 1.45312\n",
      "Epoch 8/25\n",
      "625/625 [==============================] - 12s 19ms/step - loss: 2.1076 - accuracy: 0.1868 - val_loss: 1.9964 - val_accuracy: 0.2300\n",
      "\n",
      "Epoch 00008: val_loss did not improve from 1.45312\n",
      "Epoch 9/25\n",
      "625/625 [==============================] - 12s 19ms/step - loss: 2.0677 - accuracy: 0.2089 - val_loss: 1.9935 - val_accuracy: 0.2460\n",
      "\n",
      "Epoch 00009: val_loss did not improve from 1.45312\n",
      "Epoch 10/25\n",
      "625/625 [==============================] - 12s 20ms/step - loss: 2.0379 - accuracy: 0.2204 - val_loss: 2.0574 - val_accuracy: 0.2539\n",
      "\n",
      "Epoch 00010: val_loss did not improve from 1.45312\n",
      "Epoch 11/25\n",
      "625/625 [==============================] - 12s 20ms/step - loss: 2.0093 - accuracy: 0.2381 - val_loss: 1.8789 - val_accuracy: 0.2724\n",
      "\n",
      "Epoch 00011: val_loss did not improve from 1.45312\n",
      "Epoch 12/25\n",
      "625/625 [==============================] - 12s 19ms/step - loss: 1.9864 - accuracy: 0.2417 - val_loss: 1.8369 - val_accuracy: 0.2842\n",
      "\n",
      "Epoch 00012: val_loss did not improve from 1.45312\n",
      "Epoch 13/25\n",
      "625/625 [==============================] - 12s 19ms/step - loss: 1.9695 - accuracy: 0.2516 - val_loss: 1.9732 - val_accuracy: 0.2847\n",
      "\n",
      "Epoch 00013: val_loss did not improve from 1.45312\n",
      "Epoch 14/25\n",
      "625/625 [==============================] - 12s 19ms/step - loss: 1.9482 - accuracy: 0.2576 - val_loss: 1.8054 - val_accuracy: 0.2881\n",
      "\n",
      "Epoch 00014: val_loss did not improve from 1.45312\n",
      "Epoch 15/25\n",
      "625/625 [==============================] - 12s 19ms/step - loss: 1.9379 - accuracy: 0.2632 - val_loss: 1.8381 - val_accuracy: 0.3054\n",
      "\n",
      "Epoch 00015: val_loss did not improve from 1.45312\n",
      "Epoch 16/25\n",
      "625/625 [==============================] - 12s 19ms/step - loss: 1.9231 - accuracy: 0.2727 - val_loss: 1.9810 - val_accuracy: 0.3061\n",
      "\n",
      "Epoch 00016: val_loss did not improve from 1.45312\n",
      "Epoch 17/25\n",
      "625/625 [==============================] - 12s 19ms/step - loss: 1.9124 - accuracy: 0.2797 - val_loss: 1.9778 - val_accuracy: 0.3165\n",
      "\n",
      "Epoch 00017: val_loss did not improve from 1.45312\n",
      "Epoch 18/25\n",
      "625/625 [==============================] - 12s 19ms/step - loss: 1.8907 - accuracy: 0.2927 - val_loss: 1.9162 - val_accuracy: 0.3223\n",
      "\n",
      "Epoch 00018: val_loss did not improve from 1.45312\n",
      "Epoch 19/25\n",
      "625/625 [==============================] - 12s 20ms/step - loss: 1.8706 - accuracy: 0.2991 - val_loss: 1.8570 - val_accuracy: 0.3174\n",
      "\n",
      "Epoch 00019: val_loss did not improve from 1.45312\n",
      "Epoch 20/25\n",
      "625/625 [==============================] - 12s 19ms/step - loss: 1.8619 - accuracy: 0.3061 - val_loss: 1.7649 - val_accuracy: 0.3376\n",
      "\n",
      "Epoch 00020: val_loss did not improve from 1.45312\n",
      "Epoch 21/25\n",
      "625/625 [==============================] - 12s 19ms/step - loss: 1.8445 - accuracy: 0.3154 - val_loss: 1.6366 - val_accuracy: 0.3278\n",
      "\n",
      "Epoch 00021: val_loss did not improve from 1.45312\n",
      "Epoch 22/25\n",
      "625/625 [==============================] - 12s 20ms/step - loss: 1.8325 - accuracy: 0.3185 - val_loss: 1.8472 - val_accuracy: 0.3358\n",
      "\n",
      "Epoch 00022: val_loss did not improve from 1.45312\n",
      "Epoch 23/25\n",
      "625/625 [==============================] - 12s 19ms/step - loss: 1.8227 - accuracy: 0.3287 - val_loss: 1.8410 - val_accuracy: 0.3590\n",
      "\n",
      "Epoch 00023: val_loss did not improve from 1.45312\n",
      "Epoch 24/25\n",
      "625/625 [==============================] - 12s 20ms/step - loss: 1.8060 - accuracy: 0.3340 - val_loss: 2.1545 - val_accuracy: 0.3401\n",
      "\n",
      "Epoch 00024: val_loss did not improve from 1.45312\n",
      "Epoch 25/25\n",
      "625/625 [==============================] - 12s 19ms/step - loss: 1.8079 - accuracy: 0.3337 - val_loss: 2.0270 - val_accuracy: 0.3348\n",
      "\n",
      "Epoch 00025: val_loss did not improve from 1.45312\n"
     ]
    }
   ],
   "source": [
    "hist_dropout = model_dropout.fit(train_data, steps_per_epoch=(len(train_files)//batch_size), epochs=epochs, validation_data=val_data, validation_steps=(len(val_files)//batch_size), callbacks=callbacks)\n",
    "all_histories.append(hist_dropout)\n",
    "model_names.append(model_name)"
   ]
  },
  {
   "cell_type": "markdown",
   "metadata": {},
   "source": [
    "<h2>Analysis</h2>\n",
    "<p>In this model I introduced dropout layers are the max pooling and it further degraded the results with accuracy getting down to 44% and validation accuracy coming down to 39%. It also increased the loss. Dropout did help prevent overfitting of the model as the training and validation models are pretty close to each other. Adding more complexity to the model would be a right step here</p>"
   ]
  },
  {
   "cell_type": "markdown",
   "metadata": {},
   "source": [
    "### Task 4.1 Batch Normalization\n",
    "Modify the network by introducing batch normalization layer(s) and train the model. "
   ]
  },
  {
   "cell_type": "code",
   "execution_count": 136,
   "metadata": {},
   "outputs": [],
   "source": [
    "model_name = 'model_batch_normalized'\n",
    "if not os.path.exists('./'+model_name):\n",
    "    os.mkdir(model_name)"
   ]
  },
  {
   "cell_type": "code",
   "execution_count": 137,
   "metadata": {},
   "outputs": [],
   "source": [
    "input_img = Input(shape=input_shape_cifar, name='input_img')\n",
    "l = Conv2D(1, kernel_size=(4,4), activation='relu')(input_img)\n",
    "l = MaxPooling2D(pool_size=(2, 2))(l)\n",
    "l = Dropout(rate=0.25)(l)\n",
    "l = BatchNormalization()(l)\n",
    "l = Conv2D(10, (3,3), activation='relu')(l)\n",
    "l = MaxPooling2D(pool_size=(2, 2))(l)\n",
    "l = BatchNormalization()(l)\n",
    "l = Flatten()(l)\n",
    "l = Dense(128, activation='relu')(l)\n",
    "l = Dropout(rate=0.3)(l)\n",
    "l = BatchNormalization()(l)\n",
    "output_class = Dense(len(classes), activation='softmax')(l)\n",
    "model_normalized = Model(inputs=input_img, outputs=output_class)"
   ]
  },
  {
   "cell_type": "code",
   "execution_count": 138,
   "metadata": {},
   "outputs": [],
   "source": [
    "adam = Adam(lr=0.001)\n",
    "model_normalized.compile(loss='categorical_crossentropy', \n",
    "              optimizer=adam, \n",
    "              metrics=['accuracy'])"
   ]
  },
  {
   "cell_type": "code",
   "execution_count": 139,
   "metadata": {},
   "outputs": [
    {
     "name": "stdout",
     "output_type": "stream",
     "text": [
      "Model: \"model_15\"\n",
      "_________________________________________________________________\n",
      "Layer (type)                 Output Shape              Param #   \n",
      "=================================================================\n",
      "input_img (InputLayer)       (None, 32, 32, 3)         0         \n",
      "_________________________________________________________________\n",
      "conv2d_23 (Conv2D)           (None, 29, 29, 1)         49        \n",
      "_________________________________________________________________\n",
      "max_pooling2d_13 (MaxPooling (None, 14, 14, 1)         0         \n",
      "_________________________________________________________________\n",
      "dropout_9 (Dropout)          (None, 14, 14, 1)         0         \n",
      "_________________________________________________________________\n",
      "batch_normalization_7 (Batch (None, 14, 14, 1)         4         \n",
      "_________________________________________________________________\n",
      "conv2d_24 (Conv2D)           (None, 12, 12, 10)        100       \n",
      "_________________________________________________________________\n",
      "max_pooling2d_14 (MaxPooling (None, 6, 6, 10)          0         \n",
      "_________________________________________________________________\n",
      "batch_normalization_8 (Batch (None, 6, 6, 10)          40        \n",
      "_________________________________________________________________\n",
      "flatten_12 (Flatten)         (None, 360)               0         \n",
      "_________________________________________________________________\n",
      "dense_23 (Dense)             (None, 128)               46208     \n",
      "_________________________________________________________________\n",
      "dropout_10 (Dropout)         (None, 128)               0         \n",
      "_________________________________________________________________\n",
      "batch_normalization_9 (Batch (None, 128)               512       \n",
      "_________________________________________________________________\n",
      "dense_24 (Dense)             (None, 10)                1290      \n",
      "=================================================================\n",
      "Total params: 48,203\n",
      "Trainable params: 47,925\n",
      "Non-trainable params: 278\n",
      "_________________________________________________________________\n"
     ]
    }
   ],
   "source": [
    "plot_model(model_normalized, model_name+'/'+model_name+'.png')\n",
    "model_normalized.summary()"
   ]
  },
  {
   "cell_type": "code",
   "execution_count": 140,
   "metadata": {},
   "outputs": [],
   "source": [
    "# Add the following checkpoints: ModelCheckpoint, CSVLogger\n",
    "checkpoint = ModelCheckpoint(model_name+'/'+model_name+'-{epoch:02d}-{val_loss:.2f}.h5', \n",
    "                             monitor='val_loss', verbose=1, save_best_only=True, mode='auto')\n",
    "cvslogger = CSVLogger(model_name+'/logs.csv', separator=',', append=True)\n",
    "tensorboard = LRTensorBoard(log_dir='./'+model_name, histogram_freq=0, write_graph=True, write_grads=1, \n",
    "                            batch_size=batch_size, write_images=True)\n",
    "\n",
    "callbacks = [checkpoint, tensorboard, cvslogger]"
   ]
  },
  {
   "cell_type": "code",
   "execution_count": 141,
   "metadata": {},
   "outputs": [],
   "source": [
    "# Create three generators\n",
    "train_data = data_generator(train_files, batch_size=batch_size)\n",
    "test_data = data_generator(test_files, batch_size=batch_size)\n",
    "val_data = data_generator(val_files, batch_size=batch_size)"
   ]
  },
  {
   "cell_type": "code",
   "execution_count": 142,
   "metadata": {
    "scrolled": true
   },
   "outputs": [
    {
     "name": "stdout",
     "output_type": "stream",
     "text": [
      "Epoch 1/25\n",
      "625/625 [==============================] - 12s 20ms/step - loss: 2.1026 - accuracy: 0.2596 - val_loss: 2.1152 - val_accuracy: 0.2622\n",
      "\n",
      "Epoch 00001: val_loss improved from inf to 2.11516, saving model to model_batch_normalized/model_batch_normalized-01-2.12.h5\n",
      "Epoch 2/25\n",
      "625/625 [==============================] - 12s 19ms/step - loss: 1.7831 - accuracy: 0.3526 - val_loss: 1.9957 - val_accuracy: 0.3257\n",
      "\n",
      "Epoch 00002: val_loss improved from 2.11516 to 1.99575, saving model to model_batch_normalized/model_batch_normalized-02-2.00.h5\n",
      "Epoch 3/25\n",
      "625/625 [==============================] - 12s 19ms/step - loss: 1.7123 - accuracy: 0.3805 - val_loss: 2.1096 - val_accuracy: 0.3306\n",
      "\n",
      "Epoch 00003: val_loss did not improve from 1.99575\n",
      "Epoch 4/25\n",
      "625/625 [==============================] - 12s 20ms/step - loss: 1.6770 - accuracy: 0.3972 - val_loss: 1.9308 - val_accuracy: 0.3460\n",
      "\n",
      "Epoch 00004: val_loss improved from 1.99575 to 1.93083, saving model to model_batch_normalized/model_batch_normalized-04-1.93.h5\n",
      "Epoch 5/25\n",
      "625/625 [==============================] - 12s 20ms/step - loss: 1.6539 - accuracy: 0.4054 - val_loss: 1.8321 - val_accuracy: 0.3903\n",
      "\n",
      "Epoch 00005: val_loss improved from 1.93083 to 1.83210, saving model to model_batch_normalized/model_batch_normalized-05-1.83.h5\n",
      "Epoch 6/25\n",
      "625/625 [==============================] - 12s 20ms/step - loss: 1.6296 - accuracy: 0.4136 - val_loss: 2.0573 - val_accuracy: 0.3468\n",
      "\n",
      "Epoch 00006: val_loss did not improve from 1.83210\n",
      "Epoch 7/25\n",
      "625/625 [==============================] - 12s 20ms/step - loss: 1.6122 - accuracy: 0.4227 - val_loss: 1.6013 - val_accuracy: 0.3863\n",
      "\n",
      "Epoch 00007: val_loss improved from 1.83210 to 1.60132, saving model to model_batch_normalized/model_batch_normalized-07-1.60.h5\n",
      "Epoch 8/25\n",
      "625/625 [==============================] - 12s 19ms/step - loss: 1.6075 - accuracy: 0.4236 - val_loss: 1.9735 - val_accuracy: 0.3365\n",
      "\n",
      "Epoch 00008: val_loss did not improve from 1.60132\n",
      "Epoch 9/25\n",
      "625/625 [==============================] - 12s 20ms/step - loss: 1.5884 - accuracy: 0.4314 - val_loss: 1.8337 - val_accuracy: 0.3869\n",
      "\n",
      "Epoch 00009: val_loss did not improve from 1.60132\n",
      "Epoch 10/25\n",
      "625/625 [==============================] - 12s 19ms/step - loss: 1.5822 - accuracy: 0.4337 - val_loss: 2.0833 - val_accuracy: 0.3431\n",
      "\n",
      "Epoch 00010: val_loss did not improve from 1.60132\n",
      "Epoch 11/25\n",
      "625/625 [==============================] - 12s 19ms/step - loss: 1.5724 - accuracy: 0.4371 - val_loss: 1.7392 - val_accuracy: 0.3858\n",
      "\n",
      "Epoch 00011: val_loss did not improve from 1.60132\n",
      "Epoch 12/25\n",
      "625/625 [==============================] - 12s 19ms/step - loss: 1.5659 - accuracy: 0.4411 - val_loss: 1.9416 - val_accuracy: 0.3352\n",
      "\n",
      "Epoch 00012: val_loss did not improve from 1.60132\n",
      "Epoch 13/25\n",
      "625/625 [==============================] - 12s 20ms/step - loss: 1.5611 - accuracy: 0.4409 - val_loss: 2.0732 - val_accuracy: 0.3491\n",
      "\n",
      "Epoch 00013: val_loss did not improve from 1.60132\n",
      "Epoch 14/25\n",
      "625/625 [==============================] - 12s 20ms/step - loss: 1.5558 - accuracy: 0.4466 - val_loss: 2.5042 - val_accuracy: 0.3226\n",
      "\n",
      "Epoch 00014: val_loss did not improve from 1.60132\n",
      "Epoch 15/25\n",
      "625/625 [==============================] - 12s 20ms/step - loss: 1.5471 - accuracy: 0.4453 - val_loss: 2.3067 - val_accuracy: 0.3365\n",
      "\n",
      "Epoch 00015: val_loss did not improve from 1.60132\n",
      "Epoch 16/25\n",
      "625/625 [==============================] - 12s 20ms/step - loss: 1.5457 - accuracy: 0.4491 - val_loss: 1.4811 - val_accuracy: 0.4031\n",
      "\n",
      "Epoch 00016: val_loss improved from 1.60132 to 1.48113, saving model to model_batch_normalized/model_batch_normalized-16-1.48.h5\n",
      "Epoch 17/25\n",
      "625/625 [==============================] - 12s 20ms/step - loss: 1.5364 - accuracy: 0.4521 - val_loss: 1.8883 - val_accuracy: 0.3937\n",
      "\n",
      "Epoch 00017: val_loss did not improve from 1.48113\n",
      "Epoch 18/25\n",
      "625/625 [==============================] - 12s 20ms/step - loss: 1.5335 - accuracy: 0.4557 - val_loss: 2.1393 - val_accuracy: 0.3435\n",
      "\n",
      "Epoch 00018: val_loss did not improve from 1.48113\n",
      "Epoch 19/25\n",
      "625/625 [==============================] - 12s 19ms/step - loss: 1.5306 - accuracy: 0.4541 - val_loss: 2.0149 - val_accuracy: 0.3496\n",
      "\n",
      "Epoch 00019: val_loss did not improve from 1.48113\n",
      "Epoch 20/25\n",
      "625/625 [==============================] - 12s 19ms/step - loss: 1.5272 - accuracy: 0.4559 - val_loss: 1.7214 - val_accuracy: 0.3887\n",
      "\n",
      "Epoch 00020: val_loss did not improve from 1.48113\n",
      "Epoch 21/25\n",
      "625/625 [==============================] - 12s 19ms/step - loss: 1.5257 - accuracy: 0.4574 - val_loss: 1.7634 - val_accuracy: 0.3875\n",
      "\n",
      "Epoch 00021: val_loss did not improve from 1.48113\n",
      "Epoch 22/25\n",
      "625/625 [==============================] - 12s 19ms/step - loss: 1.5241 - accuracy: 0.4559 - val_loss: 1.7493 - val_accuracy: 0.3846\n",
      "\n",
      "Epoch 00022: val_loss did not improve from 1.48113\n",
      "Epoch 23/25\n",
      "625/625 [==============================] - 12s 19ms/step - loss: 1.5188 - accuracy: 0.4568 - val_loss: 1.8558 - val_accuracy: 0.3740\n",
      "\n",
      "Epoch 00023: val_loss did not improve from 1.48113\n",
      "Epoch 24/25\n",
      "625/625 [==============================] - 12s 19ms/step - loss: 1.5114 - accuracy: 0.4615 - val_loss: 1.9822 - val_accuracy: 0.3851\n",
      "\n",
      "Epoch 00024: val_loss did not improve from 1.48113\n",
      "Epoch 25/25\n",
      "625/625 [==============================] - 12s 19ms/step - loss: 1.5112 - accuracy: 0.4603 - val_loss: 2.5732 - val_accuracy: 0.3747\n",
      "\n",
      "Epoch 00025: val_loss did not improve from 1.48113\n"
     ]
    }
   ],
   "source": [
    "hist_normalized = model_normalized.fit(train_data, steps_per_epoch=(len(train_files)//batch_size), epochs=epochs, validation_data=val_data, validation_steps=(len(val_files)//batch_size), callbacks=callbacks)\n",
    "all_histories.append(hist_normalized)\n",
    "model_names.append(model_name)"
   ]
  },
  {
   "cell_type": "markdown",
   "metadata": {},
   "source": [
    "<h2>Analysis</h2>\n",
    "<p>In this model I introduced batch normalization layers after the dropout layers. Accuracy and Validation loss are similar compared to the last model (dropout). This was expected because normalization layers just generate a statistically equivalent data which just helps the training speed of the model. In this model Accuracy didn't improve much from the initial accuracy and it got stable pretty quickly so in normalization models we will not just have faster epochs but also lesser epochs required</p>"
   ]
  },
  {
   "cell_type": "markdown",
   "metadata": {},
   "source": [
    "### Task 5.1 Comparison of all models\n",
    "In this task you need to plot the loss and accuracy for all models and __discuss__ which model has better performance and why do you think so."
   ]
  },
  {
   "cell_type": "code",
   "execution_count": 143,
   "metadata": {},
   "outputs": [],
   "source": [
    "# Plot accuracy of all models\n",
    "def plotHistory(histories, names, metric):\n",
    "    plt.clf() \n",
    "    x_axis = list(range(epochs))\n",
    "    for hist, name in zip(histories, names):\n",
    "        plt.plot(x_axis, hist.history[metric], label=metric+'_'+name)\n",
    "        plt.scatter(x_axis, hist.history[metric])\n",
    "    plt.legend()\n",
    "    plt.title(metric)\n",
    "    plt.show()"
   ]
  },
  {
   "cell_type": "code",
   "execution_count": 144,
   "metadata": {},
   "outputs": [
    {
     "data": {
      "image/png": "[encoded data removed]",
      "text/plain": [
       "<Figure size 576x396 with 1 Axes>"
      ]
     },
     "metadata": {},
     "output_type": "display_data"
    },
    {
     "data": {
      "image/png": "[encoded data removed]",
      "text/plain": [
       "<Figure size 576x396 with 1 Axes>"
      ]
     },
     "metadata": {},
     "output_type": "display_data"
    },
    {
     "data": {
      "image/png": "[encoded data removed]",
      "text/plain": [
       "<Figure size 576x396 with 1 Axes>"
      ]
     },
     "metadata": {},
     "output_type": "display_data"
    },
    {
     "data": {
      "image/png": "[encoded data removed]",
      "text/plain": [
       "<Figure size 576x396 with 1 Axes>"
      ]
     },
     "metadata": {},
     "output_type": "display_data"
    }
   ],
   "source": [
    "# Plot histories of all models\n",
    "plotHistory(all_histories, model_names,'accuracy')\n",
    "plotHistory(all_histories, model_names,'val_accuracy')\n",
    "plotHistory(all_histories, model_names,'loss')\n",
    "plotHistory(all_histories, model_names,'val_loss')"
   ]
  },
  {
   "cell_type": "markdown",
   "metadata": {},
   "source": [
    "<h2>Analysis</h2>\n",
    "<h3>Accuracy</h3>\n",
    "<p>We see that as we keep adding layers and dropouts to the model this reduces the training accuracy which means that model is now not overfitting to the training data</p>\n",
    "<h3>Validation Accuracy</h3>\n",
    "<p>Preprocessed model has the highest validation accuracy compared to the rest of them which is surprising even to me. Initial model has a really bad validation accuracy which is explained by the fact that it was overfitting</p>\n",
    "<h3>Loss</h3>\n",
    "<p>Loss is in harmony with the accuracy of the model which is technically it's definition. Higher the accuracy lower the loss and vice versa</p>\n",
    "<h3>Validation Loss</h3>\n",
    "<p>Validation Loss is pretty similar for all models except base model in which it is spiking and pretty bluntly. This is expected result. To avoid overfitting we can add dropout layers to base model</p>"
   ]
  },
  {
   "cell_type": "markdown",
   "metadata": {},
   "source": [
    "#### Tensorboard \n",
    "We will be covering Tensorboard in Friday's tutorial. You can complete this part after the tutorial (21st Feb 2020)"
   ]
  },
  {
   "cell_type": "markdown",
   "metadata": {},
   "source": [
    "You can run TensorBoard using the following command\n",
    "```tensorboard --logdir=path/to/log-directory\n",
    "```\n",
    "Now for logs of all above trained models, take snapshot of the _loss_ and _accuracy_ plots and save in the directory where this notebook is. To show that saved plot here in notebook use following command in _markdown_ cell. \n",
    "<br> __![](path_to_image)__"
   ]
  },
  {
   "cell_type": "markdown",
   "metadata": {},
   "source": [
    "**Add cells to include loss plots**"
   ]
  },
  {
   "cell_type": "markdown",
   "metadata": {},
   "source": [
    "##### Add your analysis here"
   ]
  },
  {
   "cell_type": "code",
   "execution_count": 145,
   "metadata": {},
   "outputs": [
    {
     "name": "stdout",
     "output_type": "stream",
     "text": [
      "Model Initial\n",
      "156/156 [==============================] - 2s 15ms/step\n",
      "loss --> 3.7353508472442627\n",
      "accuracy --> 0.43569710850715637\n",
      "Model Preprocessed\n",
      "156/156 [==============================] - 2s 15ms/step\n",
      "loss --> 1.3535780906677246\n",
      "accuracy --> 0.5502804517745972\n",
      "Model Pooling\n",
      "156/156 [==============================] - 2s 15ms/step\n",
      "loss --> 2.3530237674713135\n",
      "accuracy --> 0.4462139308452606\n",
      "Model Dropout\n",
      "156/156 [==============================] - 2s 15ms/step\n",
      "loss --> 1.968778371810913\n",
      "accuracy --> 0.32932692766189575\n",
      "Model Normalized\n",
      "156/156 [==============================] - 2s 15ms/step\n",
      "loss --> 1.8809542655944824\n",
      "accuracy --> 0.3802083432674408\n"
     ]
    }
   ],
   "source": [
    "print('Model Initial')\n",
    "test_data = data_generator(test_files, batch_size=batch_size)\n",
    "metrics = model_initial.evaluate(test_data, steps=(len(test_files)//batch_size))\n",
    "for i in range(len(metrics)):\n",
    "    print(model_initial.metrics_names[i], '-->', metrics[i])\n",
    "print('Model Preprocessed')\n",
    "test_data = data_generator(test_files, batch_size=batch_size, preprocessing=preprocessing_norm)\n",
    "metrics = model_preprocessed.evaluate(test_data, steps=(len(test_files)//batch_size))\n",
    "for i in range(len(metrics)):\n",
    "    print(model_preprocessed.metrics_names[i], '-->', metrics[i])\n",
    "print('Model Pooling')\n",
    "test_data = data_generator(test_files, batch_size=batch_size)\n",
    "metrics = model_pooled.evaluate(test_data, steps=(len(test_files)//batch_size))\n",
    "for i in range(len(metrics)):\n",
    "    print(model_pooled.metrics_names[i], '-->', metrics[i])\n",
    "print('Model Dropout')\n",
    "test_data = data_generator(test_files, batch_size=batch_size)\n",
    "metrics = model_dropout.evaluate(test_data, steps=(len(test_files)//batch_size))\n",
    "for i in range(len(metrics)):\n",
    "    print(model_dropout.metrics_names[i], '-->', metrics[i])\n",
    "print('Model Normalized')\n",
    "test_data = data_generator(test_files, batch_size=batch_size)\n",
    "metrics = model_normalized.evaluate(test_data, steps=(len(test_files)//batch_size))\n",
    "for i in range(len(metrics)):\n",
    "    print(model_normalized.metrics_names[i], '-->', metrics[i])"
   ]
  },
  {
   "cell_type": "code",
   "execution_count": null,
   "metadata": {},
   "outputs": [],
   "source": []
  },
  {
   "cell_type": "markdown",
   "metadata": {},
   "source": [
    "<p>From test set evaluations above it shows that model_preprocessed is the best model among the rest as it maximizes the validation and test accuracy as well as minimizing the respective losses. Rest of the mo</p>"
   ]
  },
  {
   "cell_type": "markdown",
   "metadata": {},
   "source": [
    "### Task 5.2 Visualize Activations\n",
    "We will be covering this in Friday's tutorial. You can complete this part after the tutorial (21st Feb 2020). In this task, you are required to visualize the activations (outputs) of both the convolution layers of a model."
   ]
  },
  {
   "cell_type": "code",
   "execution_count": 146,
   "metadata": {},
   "outputs": [
    {
     "data": {
      "text/plain": [
       "(32, 32)"
      ]
     },
     "execution_count": 146,
     "metadata": {},
     "output_type": "execute_result"
    }
   ],
   "source": [
    "data_gen = data_generator(test_files)\n",
    "images, labels = next(data_gen)\n",
    "len(images), len(labels)"
   ]
  },
  {
   "cell_type": "code",
   "execution_count": 148,
   "metadata": {},
   "outputs": [
    {
     "data": {
      "image/png": "[encoded data removed]",
      "text/plain": [
       "<Figure size 576x396 with 1 Axes>"
      ]
     },
     "metadata": {},
     "output_type": "display_data"
    }
   ],
   "source": [
    "# Load any image here\n",
    "\n",
    "test_image = images[0]\n",
    "\n",
    "plt.imshow(test_image)\n",
    "plt.gca().grid(False);"
   ]
  },
  {
   "cell_type": "code",
   "execution_count": 67,
   "metadata": {},
   "outputs": [
    {
     "data": {
      "text/plain": [
       "'automobile'"
      ]
     },
     "execution_count": 67,
     "metadata": {},
     "output_type": "execute_result"
    }
   ],
   "source": [
    "\n",
    "test_reshaped = test_image.reshape((1,32,32,3))\n",
    "\n",
    "# Get a prediction from ANY ONE of your models and output its label\n",
    "# model_dropout.predict(test_reshaped)\n",
    "prediction= model_dropout.predict(test_reshaped).argmax()\n",
    "lb.classes_[prediction]"
   ]
  },
  {
   "cell_type": "code",
   "execution_count": 71,
   "metadata": {},
   "outputs": [
    {
     "ename": "ValueError",
     "evalue": "Graph disconnected: cannot obtain value for tensor Tensor(\"input_img:0\", shape=(?, 32, 32, 3), dtype=float32) at layer \"input_img\". The following previous layers were accessed without issue: []",
     "output_type": "error",
     "traceback": [
      "\u001b[0;31m---------------------------------------------------------------------------\u001b[0m",
      "\u001b[0;31mValueError\u001b[0m                                Traceback (most recent call last)",
      "\u001b[0;32m<ipython-input-71-e27735d2afaf>\u001b[0m in \u001b[0;36m<module>\u001b[0;34m\u001b[0m\n\u001b[1;32m      1\u001b[0m \u001b[0;31m# Create a Model from the Input layer to a Convolutional Layer\u001b[0m\u001b[0;34m\u001b[0m\u001b[0;34m\u001b[0m\u001b[0;34m\u001b[0m\u001b[0m\n\u001b[1;32m      2\u001b[0m \u001b[0minput_img\u001b[0m \u001b[0;34m=\u001b[0m \u001b[0mInput\u001b[0m\u001b[0;34m(\u001b[0m\u001b[0mshape\u001b[0m\u001b[0;34m=\u001b[0m\u001b[0minput_shape_cifar\u001b[0m\u001b[0;34m,\u001b[0m \u001b[0mname\u001b[0m\u001b[0;34m=\u001b[0m\u001b[0;34m'input_img'\u001b[0m\u001b[0;34m)\u001b[0m\u001b[0;34m\u001b[0m\u001b[0;34m\u001b[0m\u001b[0m\n\u001b[0;32m----> 3\u001b[0;31m \u001b[0mnew_model\u001b[0m \u001b[0;34m=\u001b[0m \u001b[0mModel\u001b[0m\u001b[0;34m(\u001b[0m\u001b[0minputs\u001b[0m\u001b[0;34m=\u001b[0m\u001b[0minput_img\u001b[0m\u001b[0;34m,\u001b[0m \u001b[0moutputs\u001b[0m\u001b[0;34m=\u001b[0m\u001b[0mmodel_initial\u001b[0m\u001b[0;34m.\u001b[0m\u001b[0mget_layer\u001b[0m\u001b[0;34m(\u001b[0m\u001b[0;34m'conv2d_1'\u001b[0m\u001b[0;34m)\u001b[0m\u001b[0;34m.\u001b[0m\u001b[0moutput\u001b[0m\u001b[0;34m)\u001b[0m\u001b[0;34m\u001b[0m\u001b[0;34m\u001b[0m\u001b[0m\n\u001b[0m",
      "\u001b[0;32m~/anaconda3/lib/python3.7/site-packages/keras/legacy/interfaces.py\u001b[0m in \u001b[0;36mwrapper\u001b[0;34m(*args, **kwargs)\u001b[0m\n\u001b[1;32m     89\u001b[0m                 warnings.warn('Update your `' + object_name + '` call to the ' +\n\u001b[1;32m     90\u001b[0m                               'Keras 2 API: ' + signature, stacklevel=2)\n\u001b[0;32m---> 91\u001b[0;31m             \u001b[0;32mreturn\u001b[0m \u001b[0mfunc\u001b[0m\u001b[0;34m(\u001b[0m\u001b[0;34m*\u001b[0m\u001b[0margs\u001b[0m\u001b[0;34m,\u001b[0m \u001b[0;34m**\u001b[0m\u001b[0mkwargs\u001b[0m\u001b[0;34m)\u001b[0m\u001b[0;34m\u001b[0m\u001b[0;34m\u001b[0m\u001b[0m\n\u001b[0m\u001b[1;32m     92\u001b[0m         \u001b[0mwrapper\u001b[0m\u001b[0;34m.\u001b[0m\u001b[0m_original_function\u001b[0m \u001b[0;34m=\u001b[0m \u001b[0mfunc\u001b[0m\u001b[0;34m\u001b[0m\u001b[0;34m\u001b[0m\u001b[0m\n\u001b[1;32m     93\u001b[0m         \u001b[0;32mreturn\u001b[0m \u001b[0mwrapper\u001b[0m\u001b[0;34m\u001b[0m\u001b[0;34m\u001b[0m\u001b[0m\n",
      "\u001b[0;32m~/anaconda3/lib/python3.7/site-packages/keras/engine/network.py\u001b[0m in \u001b[0;36m__init__\u001b[0;34m(self, *args, **kwargs)\u001b[0m\n\u001b[1;32m     92\u001b[0m                 'inputs' in kwargs and 'outputs' in kwargs):\n\u001b[1;32m     93\u001b[0m             \u001b[0;31m# Graph network\u001b[0m\u001b[0;34m\u001b[0m\u001b[0;34m\u001b[0m\u001b[0;34m\u001b[0m\u001b[0m\n\u001b[0;32m---> 94\u001b[0;31m             \u001b[0mself\u001b[0m\u001b[0;34m.\u001b[0m\u001b[0m_init_graph_network\u001b[0m\u001b[0;34m(\u001b[0m\u001b[0;34m*\u001b[0m\u001b[0margs\u001b[0m\u001b[0;34m,\u001b[0m \u001b[0;34m**\u001b[0m\u001b[0mkwargs\u001b[0m\u001b[0;34m)\u001b[0m\u001b[0;34m\u001b[0m\u001b[0;34m\u001b[0m\u001b[0m\n\u001b[0m\u001b[1;32m     95\u001b[0m         \u001b[0;32melse\u001b[0m\u001b[0;34m:\u001b[0m\u001b[0;34m\u001b[0m\u001b[0;34m\u001b[0m\u001b[0m\n\u001b[1;32m     96\u001b[0m             \u001b[0;31m# Subclassed network\u001b[0m\u001b[0;34m\u001b[0m\u001b[0;34m\u001b[0m\u001b[0;34m\u001b[0m\u001b[0m\n",
      "\u001b[0;32m~/anaconda3/lib/python3.7/site-packages/keras/engine/network.py\u001b[0m in \u001b[0;36m_init_graph_network\u001b[0;34m(self, inputs, outputs, name, **kwargs)\u001b[0m\n\u001b[1;32m    239\u001b[0m         \u001b[0;31m# Keep track of the network's nodes and layers.\u001b[0m\u001b[0;34m\u001b[0m\u001b[0;34m\u001b[0m\u001b[0;34m\u001b[0m\u001b[0m\n\u001b[1;32m    240\u001b[0m         nodes, nodes_by_depth, layers, layers_by_depth = _map_graph_network(\n\u001b[0;32m--> 241\u001b[0;31m             self.inputs, self.outputs)\n\u001b[0m\u001b[1;32m    242\u001b[0m         \u001b[0mself\u001b[0m\u001b[0;34m.\u001b[0m\u001b[0m_network_nodes\u001b[0m \u001b[0;34m=\u001b[0m \u001b[0mnodes\u001b[0m\u001b[0;34m\u001b[0m\u001b[0;34m\u001b[0m\u001b[0m\n\u001b[1;32m    243\u001b[0m         \u001b[0mself\u001b[0m\u001b[0;34m.\u001b[0m\u001b[0m_nodes_by_depth\u001b[0m \u001b[0;34m=\u001b[0m \u001b[0mnodes_by_depth\u001b[0m\u001b[0;34m\u001b[0m\u001b[0;34m\u001b[0m\u001b[0m\n",
      "\u001b[0;32m~/anaconda3/lib/python3.7/site-packages/keras/engine/network.py\u001b[0m in \u001b[0;36m_map_graph_network\u001b[0;34m(inputs, outputs)\u001b[0m\n\u001b[1;32m   1509\u001b[0m                                          \u001b[0;34m'The following previous layers '\u001b[0m\u001b[0;34m\u001b[0m\u001b[0;34m\u001b[0m\u001b[0m\n\u001b[1;32m   1510\u001b[0m                                          \u001b[0;34m'were accessed without issue: '\u001b[0m \u001b[0;34m+\u001b[0m\u001b[0;34m\u001b[0m\u001b[0;34m\u001b[0m\u001b[0m\n\u001b[0;32m-> 1511\u001b[0;31m                                          str(layers_with_complete_input))\n\u001b[0m\u001b[1;32m   1512\u001b[0m                 \u001b[0;32mfor\u001b[0m \u001b[0mx\u001b[0m \u001b[0;32min\u001b[0m \u001b[0mnode\u001b[0m\u001b[0;34m.\u001b[0m\u001b[0moutput_tensors\u001b[0m\u001b[0;34m:\u001b[0m\u001b[0;34m\u001b[0m\u001b[0;34m\u001b[0m\u001b[0m\n\u001b[1;32m   1513\u001b[0m                     \u001b[0mcomputable_tensors\u001b[0m\u001b[0;34m.\u001b[0m\u001b[0mappend\u001b[0m\u001b[0;34m(\u001b[0m\u001b[0mx\u001b[0m\u001b[0;34m)\u001b[0m\u001b[0;34m\u001b[0m\u001b[0;34m\u001b[0m\u001b[0m\n",
      "\u001b[0;31mValueError\u001b[0m: Graph disconnected: cannot obtain value for tensor Tensor(\"input_img:0\", shape=(?, 32, 32, 3), dtype=float32) at layer \"input_img\". The following previous layers were accessed without issue: []"
     ]
    }
   ],
   "source": [
    "# Create a Model from the Input layer to a Convolutional Layer\n",
    "input_img = Input(shape=input_shape_cifar, name='input_img')\n",
    "new_model = Model(inputs=input_img, outputs=model_initial.get_layer('conv2d_1').output)"
   ]
  },
  {
   "cell_type": "code",
   "execution_count": null,
   "metadata": {},
   "outputs": [],
   "source": [
    "# Get a prediction for your chosen image using this model\n",
    "predicted_activations = new_model.predict(test_reshaped)\n",
    "predicted_activations.shape"
   ]
  },
  {
   "cell_type": "code",
   "execution_count": null,
   "metadata": {},
   "outputs": [],
   "source": [
    "# Use your predictions to visualise the activations\n",
    "plt.matshow(con1_activations[0,:,:,0],cmap='viridis')\n",
    "plt.show()\n",
    "for i,ax in enumerate(axes.flatten()):\n",
    "    ax.imshow(predicted_activations[0,:,:,i]);\n",
    "    ax.grid(False);\n",
    "    ax.axis('off');"
   ]
  },
  {
   "cell_type": "code",
   "execution_count": null,
   "metadata": {},
   "outputs": [],
   "source": [
    "# Create another model to visualize activations from ANOTHER convolutional layer"
   ]
  },
  {
   "cell_type": "code",
   "execution_count": null,
   "metadata": {},
   "outputs": [],
   "source": [
    "# You may rename this variable\n",
    "second_predicted_activations = None"
   ]
  },
  {
   "cell_type": "code",
   "execution_count": null,
   "metadata": {},
   "outputs": [],
   "source": [
    "fig, axes = plt.subplots(nrows=4, ncols=4, figsize=(15,15), dpi=80)\n",
    "for i,ax in enumerate(axes.flatten()):\n",
    "    ax.imshow(second_predicted_activations[0,:,:,i]);\n",
    "    ax.grid(False);\n",
    "    ax.axis('off');"
   ]
  },
  {
   "cell_type": "markdown",
   "metadata": {},
   "source": [
    "Q) What features from your chosen image do you think your model has been able to learn? In terms of filters (weights), what goes on when we add more convolutional layers in our models?"
   ]
  },
  {
   "cell_type": "markdown",
   "metadata": {
    "heading_collapsed": true
   },
   "source": [
    "### Task 6.1  Effect of learning rate\n",
    "Take the best selected model in __Task 5.1__ and change its learning rate to: \n",
    "- 6.1.1 any value between 5 and 1.\n",
    "- 6.1.2 learning rate = any value between 0.6 and  0.1 \n",
    "- 6.1.3 learning rate = 0.00001\n",
    "\n",
    "and train these three models to compare the effect learning rate."
   ]
  },
  {
   "cell_type": "code",
   "execution_count": 150,
   "metadata": {
    "hidden": true
   },
   "outputs": [
    {
     "name": "stdout",
     "output_type": "stream",
     "text": [
      "Epoch 1/25\n",
      "625/625 [==============================] - 15s 23ms/step - loss: 205.8050 - accuracy: 0.1006 - val_loss: 2.4450 - val_accuracy: 0.1011\n",
      "Epoch 2/25\n",
      "625/625 [==============================] - 14s 23ms/step - loss: 2.4224 - accuracy: 0.1012 - val_loss: 2.5631 - val_accuracy: 0.1009\n",
      "Epoch 3/25\n",
      "625/625 [==============================] - 14s 23ms/step - loss: 2.4287 - accuracy: 0.1008 - val_loss: 2.4496 - val_accuracy: 0.1011\n",
      "Epoch 4/25\n",
      "625/625 [==============================] - 14s 23ms/step - loss: 2.4306 - accuracy: 0.1010 - val_loss: 2.4374 - val_accuracy: 0.1008\n",
      "Epoch 5/25\n",
      "625/625 [==============================] - 14s 23ms/step - loss: 2.4312 - accuracy: 0.1006 - val_loss: 2.4253 - val_accuracy: 0.1007\n",
      "Epoch 6/25\n",
      "625/625 [==============================] - 14s 23ms/step - loss: 2.4314 - accuracy: 0.1006 - val_loss: 2.5944 - val_accuracy: 0.1005\n",
      "Epoch 7/25\n",
      "625/625 [==============================] - 14s 23ms/step - loss: 2.4315 - accuracy: 0.1009 - val_loss: 2.4113 - val_accuracy: 0.1012\n",
      "Epoch 8/25\n",
      "625/625 [==============================] - 14s 23ms/step - loss: 2.4316 - accuracy: 0.1008 - val_loss: 2.4745 - val_accuracy: 0.1008\n",
      "Epoch 9/25\n",
      "625/625 [==============================] - 14s 23ms/step - loss: 2.4316 - accuracy: 0.1010 - val_loss: 2.7198 - val_accuracy: 0.1010\n",
      "Epoch 10/25\n",
      "625/625 [==============================] - 14s 23ms/step - loss: 2.4316 - accuracy: 0.1010 - val_loss: 2.5355 - val_accuracy: 0.1013\n",
      "Epoch 11/25\n",
      "625/625 [==============================] - 14s 23ms/step - loss: 2.4316 - accuracy: 0.1010 - val_loss: 2.6228 - val_accuracy: 0.1010\n",
      "Epoch 12/25\n",
      "625/625 [==============================] - 14s 23ms/step - loss: 2.4316 - accuracy: 0.1010 - val_loss: 2.6222 - val_accuracy: 0.1011\n",
      "Epoch 13/25\n",
      "625/625 [==============================] - 14s 23ms/step - loss: 2.4316 - accuracy: 0.1010 - val_loss: 2.4939 - val_accuracy: 0.1012\n",
      "Epoch 14/25\n",
      "625/625 [==============================] - 14s 23ms/step - loss: 2.4316 - accuracy: 0.1010 - val_loss: 2.4701 - val_accuracy: 0.1008\n",
      "Epoch 15/25\n",
      "625/625 [==============================] - 14s 23ms/step - loss: 2.4316 - accuracy: 0.1010 - val_loss: 2.4268 - val_accuracy: 0.1013\n",
      "Epoch 16/25\n",
      "625/625 [==============================] - 14s 23ms/step - loss: 2.4316 - accuracy: 0.1010 - val_loss: 2.5030 - val_accuracy: 0.1010\n",
      "Epoch 17/25\n",
      "625/625 [==============================] - 14s 23ms/step - loss: 2.4316 - accuracy: 0.1010 - val_loss: 2.4055 - val_accuracy: 0.1006\n",
      "Epoch 18/25\n",
      "625/625 [==============================] - 14s 23ms/step - loss: 2.4316 - accuracy: 0.1010 - val_loss: 2.3335 - val_accuracy: 0.1011\n",
      "Epoch 19/25\n",
      "625/625 [==============================] - 14s 23ms/step - loss: 2.4316 - accuracy: 0.1010 - val_loss: 2.4987 - val_accuracy: 0.1001\n",
      "Epoch 20/25\n",
      "625/625 [==============================] - 14s 23ms/step - loss: 2.4316 - accuracy: 0.1010 - val_loss: 2.4406 - val_accuracy: 0.1011\n",
      "Epoch 21/25\n",
      "625/625 [==============================] - 14s 23ms/step - loss: 2.4316 - accuracy: 0.1010 - val_loss: 2.5345 - val_accuracy: 0.1009\n",
      "Epoch 22/25\n",
      "625/625 [==============================] - 14s 23ms/step - loss: 2.4316 - accuracy: 0.1010 - val_loss: 2.4568 - val_accuracy: 0.1012\n",
      "Epoch 23/25\n",
      "625/625 [==============================] - 14s 23ms/step - loss: 2.4316 - accuracy: 0.1010 - val_loss: 2.5601 - val_accuracy: 0.1007\n",
      "Epoch 24/25\n",
      "625/625 [==============================] - 14s 23ms/step - loss: 2.4316 - accuracy: 0.1010 - val_loss: 2.5091 - val_accuracy: 0.1009\n",
      "Epoch 25/25\n",
      "625/625 [==============================] - 14s 23ms/step - loss: 2.4316 - accuracy: 0.1010 - val_loss: 2.4293 - val_accuracy: 0.1011\n"
     ]
    }
   ],
   "source": [
    "# Use code provided in previous tasks\n",
    "input_img = Input(shape=input_shape_cifar, name='input_img')\n",
    "l = Conv2D(1, kernel_size=(4,4), activation='relu')(input_img)\n",
    "l = Conv2D(10, (3,3), activation='relu')(l)\n",
    "l = Flatten()(l)\n",
    "l = Dense(128, activation='relu')(l)\n",
    "output_class = Dense(len(classes), activation='softmax')(l)\n",
    "model_lr1 = Model(inputs=input_img, outputs=output_class)\n",
    "adam = Adam(lr=2)\n",
    "\n",
    "# Compile your model using an appropriate loss\n",
    "model_lr1.compile(loss='categorical_crossentropy', \n",
    "              optimizer=adam, \n",
    "              metrics=['accuracy'])\n",
    "callbacks = []\n",
    "train_data = data_generator(train_files, batch_size=batch_size)\n",
    "test_data = data_generator(test_files, batch_size=batch_size)\n",
    "val_data = data_generator(val_files, batch_size=batch_size)\n",
    "hist_lr1 = model_lr1.fit(train_data, steps_per_epoch=(len(train_files)//batch_size), epochs=epochs, validation_data=val_data, validation_steps=(len(val_files)//batch_size), callbacks=callbacks)"
   ]
  },
  {
   "cell_type": "code",
   "execution_count": 151,
   "metadata": {},
   "outputs": [
    {
     "name": "stdout",
     "output_type": "stream",
     "text": [
      "Epoch 1/25\n",
      "625/625 [==============================] - 15s 23ms/step - loss: 2.4388 - accuracy: 0.0976 - val_loss: 2.3498 - val_accuracy: 0.1005\n",
      "Epoch 2/25\n",
      "625/625 [==============================] - 14s 23ms/step - loss: 2.3185 - accuracy: 0.0984 - val_loss: 2.3510 - val_accuracy: 0.1005\n",
      "Epoch 3/25\n",
      "625/625 [==============================] - 14s 23ms/step - loss: 2.3187 - accuracy: 0.0979 - val_loss: 2.3427 - val_accuracy: 0.1003\n",
      "Epoch 4/25\n",
      "625/625 [==============================] - 14s 23ms/step - loss: 2.3187 - accuracy: 0.0981 - val_loss: 2.3230 - val_accuracy: 0.1007\n",
      "Epoch 5/25\n",
      "625/625 [==============================] - 14s 23ms/step - loss: 2.3188 - accuracy: 0.0986 - val_loss: 2.3331 - val_accuracy: 0.1002\n",
      "Epoch 6/25\n",
      "625/625 [==============================] - 14s 23ms/step - loss: 2.3188 - accuracy: 0.0987 - val_loss: 2.3378 - val_accuracy: 0.1006\n",
      "Epoch 7/25\n",
      "625/625 [==============================] - 14s 23ms/step - loss: 2.3188 - accuracy: 0.0987 - val_loss: 2.3210 - val_accuracy: 0.1007\n",
      "Epoch 8/25\n",
      "625/625 [==============================] - 15s 23ms/step - loss: 2.3188 - accuracy: 0.0988 - val_loss: 2.3501 - val_accuracy: 0.1007\n",
      "Epoch 9/25\n",
      "625/625 [==============================] - 14s 23ms/step - loss: 2.3188 - accuracy: 0.0988 - val_loss: 2.3336 - val_accuracy: 0.1002\n",
      "Epoch 10/25\n",
      "625/625 [==============================] - 14s 23ms/step - loss: 2.3188 - accuracy: 0.0988 - val_loss: 2.3223 - val_accuracy: 0.1004\n",
      "Epoch 11/25\n",
      "625/625 [==============================] - 14s 23ms/step - loss: 2.3188 - accuracy: 0.0988 - val_loss: 2.3630 - val_accuracy: 0.1006\n",
      "Epoch 12/25\n",
      "625/625 [==============================] - 14s 23ms/step - loss: 2.3188 - accuracy: 0.0988 - val_loss: 2.3299 - val_accuracy: 0.1002\n",
      "Epoch 13/25\n",
      "625/625 [==============================] - 15s 23ms/step - loss: 2.3188 - accuracy: 0.0988 - val_loss: 2.3435 - val_accuracy: 0.1001\n",
      "Epoch 14/25\n",
      "625/625 [==============================] - 15s 24ms/step - loss: 2.3188 - accuracy: 0.0988 - val_loss: 2.3068 - val_accuracy: 0.1006\n",
      "Epoch 15/25\n",
      "625/625 [==============================] - 14s 23ms/step - loss: 2.3188 - accuracy: 0.0988 - val_loss: 2.3391 - val_accuracy: 0.1005\n",
      "Epoch 16/25\n",
      "625/625 [==============================] - 14s 23ms/step - loss: 2.3188 - accuracy: 0.0988 - val_loss: 2.3204 - val_accuracy: 0.1004\n",
      "Epoch 17/25\n",
      "625/625 [==============================] - 14s 23ms/step - loss: 2.3188 - accuracy: 0.0988 - val_loss: 2.3769 - val_accuracy: 0.1001\n",
      "Epoch 18/25\n",
      "625/625 [==============================] - 15s 23ms/step - loss: 2.3188 - accuracy: 0.0988 - val_loss: 2.3040 - val_accuracy: 0.1006\n",
      "Epoch 19/25\n",
      "625/625 [==============================] - 14s 23ms/step - loss: 2.3188 - accuracy: 0.0988 - val_loss: 2.3318 - val_accuracy: 0.1001\n",
      "Epoch 20/25\n",
      "625/625 [==============================] - 15s 23ms/step - loss: 2.3188 - accuracy: 0.0988 - val_loss: 2.3971 - val_accuracy: 0.1006\n",
      "Epoch 21/25\n",
      "625/625 [==============================] - 15s 23ms/step - loss: 2.3188 - accuracy: 0.0988 - val_loss: 2.3306 - val_accuracy: 0.1008\n",
      "Epoch 22/25\n",
      "625/625 [==============================] - 14s 23ms/step - loss: 2.3188 - accuracy: 0.0988 - val_loss: 2.3431 - val_accuracy: 0.1005\n",
      "Epoch 23/25\n",
      "625/625 [==============================] - 15s 23ms/step - loss: 2.3188 - accuracy: 0.0988 - val_loss: 2.3302 - val_accuracy: 0.1002\n",
      "Epoch 24/25\n",
      "625/625 [==============================] - 14s 23ms/step - loss: 2.3188 - accuracy: 0.0988 - val_loss: 2.3418 - val_accuracy: 0.1004\n",
      "Epoch 25/25\n",
      "625/625 [==============================] - 14s 23ms/step - loss: 2.3188 - accuracy: 0.0988 - val_loss: 2.3777 - val_accuracy: 0.1003\n"
     ]
    }
   ],
   "source": [
    "input_img = Input(shape=input_shape_cifar, name='input_img')\n",
    "l = Conv2D(1, kernel_size=(4,4), activation='relu')(input_img)\n",
    "l = Conv2D(10, (3,3), activation='relu')(l)\n",
    "l = Flatten()(l)\n",
    "l = Dense(128, activation='relu')(l)\n",
    "output_class = Dense(len(classes), activation='softmax')(l)\n",
    "model_lr2 = Model(inputs=input_img, outputs=output_class)\n",
    "adam = Adam(lr=0.2)\n",
    "\n",
    "# Compile your model using an appropriate loss\n",
    "model_lr2.compile(loss='categorical_crossentropy', \n",
    "              optimizer=adam, \n",
    "              metrics=['accuracy'])\n",
    "callbacks = []\n",
    "train_data = data_generator(train_files, batch_size=batch_size)\n",
    "test_data = data_generator(test_files, batch_size=batch_size)\n",
    "val_data = data_generator(val_files, batch_size=batch_size)\n",
    "hist_lr2 = model_lr2.fit(train_data, steps_per_epoch=(len(train_files)//batch_size), epochs=epochs, validation_data=val_data, validation_steps=(len(val_files)//batch_size), callbacks=callbacks)"
   ]
  },
  {
   "cell_type": "code",
   "execution_count": 152,
   "metadata": {},
   "outputs": [
    {
     "name": "stdout",
     "output_type": "stream",
     "text": [
      "Epoch 1/25\n",
      "625/625 [==============================] - 14s 23ms/step - loss: 2.3864 - accuracy: 0.1327 - val_loss: 2.2362 - val_accuracy: 0.1440\n",
      "Epoch 2/25\n",
      "625/625 [==============================] - 14s 23ms/step - loss: 2.2845 - accuracy: 0.1497 - val_loss: 2.3088 - val_accuracy: 0.1467\n",
      "Epoch 3/25\n",
      "625/625 [==============================] - 14s 23ms/step - loss: 2.2496 - accuracy: 0.1609 - val_loss: 2.2620 - val_accuracy: 0.1525\n",
      "Epoch 4/25\n",
      "625/625 [==============================] - 14s 23ms/step - loss: 2.2224 - accuracy: 0.1710 - val_loss: 2.3139 - val_accuracy: 0.1565\n",
      "Epoch 5/25\n",
      "625/625 [==============================] - 14s 23ms/step - loss: 2.1972 - accuracy: 0.1823 - val_loss: 2.2382 - val_accuracy: 0.1642\n",
      "Epoch 6/25\n",
      "625/625 [==============================] - 14s 23ms/step - loss: 2.1726 - accuracy: 0.1925 - val_loss: 2.3372 - val_accuracy: 0.1684\n",
      "Epoch 7/25\n",
      "625/625 [==============================] - 14s 23ms/step - loss: 2.1478 - accuracy: 0.2035 - val_loss: 2.3553 - val_accuracy: 0.1714\n",
      "Epoch 8/25\n",
      "625/625 [==============================] - 14s 23ms/step - loss: 2.1226 - accuracy: 0.2140 - val_loss: 2.2371 - val_accuracy: 0.1710\n",
      "Epoch 9/25\n",
      "625/625 [==============================] - 14s 23ms/step - loss: 2.0977 - accuracy: 0.2233 - val_loss: 2.1581 - val_accuracy: 0.1735\n",
      "Epoch 10/25\n",
      "625/625 [==============================] - 15s 23ms/step - loss: 2.0735 - accuracy: 0.2329 - val_loss: 2.3956 - val_accuracy: 0.1765\n",
      "Epoch 11/25\n",
      "625/625 [==============================] - 15s 23ms/step - loss: 2.0503 - accuracy: 0.2406 - val_loss: 2.4739 - val_accuracy: 0.1795\n",
      "Epoch 12/25\n",
      "625/625 [==============================] - 15s 23ms/step - loss: 2.0282 - accuracy: 0.2501 - val_loss: 2.2959 - val_accuracy: 0.1825\n",
      "Epoch 13/25\n",
      "625/625 [==============================] - 15s 23ms/step - loss: 2.0070 - accuracy: 0.2592 - val_loss: 2.3822 - val_accuracy: 0.1848\n",
      "Epoch 14/25\n",
      "625/625 [==============================] - 14s 23ms/step - loss: 1.9866 - accuracy: 0.2682 - val_loss: 2.3588 - val_accuracy: 0.1879\n",
      "Epoch 15/25\n",
      "625/625 [==============================] - 15s 23ms/step - loss: 1.9666 - accuracy: 0.2778 - val_loss: 2.4608 - val_accuracy: 0.1875\n",
      "Epoch 16/25\n",
      "625/625 [==============================] - 15s 23ms/step - loss: 1.9469 - accuracy: 0.2872 - val_loss: 2.3856 - val_accuracy: 0.1892\n",
      "Epoch 17/25\n",
      "625/625 [==============================] - 15s 23ms/step - loss: 1.9276 - accuracy: 0.2953 - val_loss: 2.3294 - val_accuracy: 0.1895\n",
      "Epoch 18/25\n",
      "625/625 [==============================] - 15s 23ms/step - loss: 1.9088 - accuracy: 0.3027 - val_loss: 2.2791 - val_accuracy: 0.1894\n",
      "Epoch 19/25\n",
      "625/625 [==============================] - 15s 23ms/step - loss: 1.8902 - accuracy: 0.3103 - val_loss: 2.3965 - val_accuracy: 0.1910\n",
      "Epoch 20/25\n",
      "625/625 [==============================] - 15s 23ms/step - loss: 1.8720 - accuracy: 0.3173 - val_loss: 2.0580 - val_accuracy: 0.1928\n",
      "Epoch 21/25\n",
      "625/625 [==============================] - 15s 23ms/step - loss: 1.8541 - accuracy: 0.3246 - val_loss: 2.2489 - val_accuracy: 0.1951\n",
      "Epoch 22/25\n",
      "625/625 [==============================] - 15s 23ms/step - loss: 1.8365 - accuracy: 0.3311 - val_loss: 2.4330 - val_accuracy: 0.1958\n",
      "Epoch 23/25\n",
      "625/625 [==============================] - 15s 23ms/step - loss: 1.8193 - accuracy: 0.3388 - val_loss: 2.2848 - val_accuracy: 0.1960\n",
      "Epoch 24/25\n",
      "625/625 [==============================] - 15s 23ms/step - loss: 1.8024 - accuracy: 0.3456 - val_loss: 2.1892 - val_accuracy: 0.1967\n",
      "Epoch 25/25\n",
      "625/625 [==============================] - 15s 23ms/step - loss: 1.7858 - accuracy: 0.3530 - val_loss: 2.2541 - val_accuracy: 0.1954\n"
     ]
    }
   ],
   "source": [
    "input_img = Input(shape=input_shape_cifar, name='input_img')\n",
    "l = Conv2D(1, kernel_size=(4,4), activation='relu')(input_img)\n",
    "l = Conv2D(10, (3,3), activation='relu')(l)\n",
    "l = Flatten()(l)\n",
    "l = Dense(128, activation='relu')(l)\n",
    "output_class = Dense(len(classes), activation='softmax')(l)\n",
    "model_lr3 = Model(inputs=input_img, outputs=output_class)\n",
    "adam = Adam(lr=0.00001)\n",
    "\n",
    "# Compile your model using an appropriate loss\n",
    "model_lr3.compile(loss='categorical_crossentropy', \n",
    "              optimizer=adam, \n",
    "              metrics=['accuracy'])\n",
    "\n",
    "callbacks = []\n",
    "train_data = data_generator(train_files, batch_size=batch_size)\n",
    "test_data = data_generator(test_files, batch_size=batch_size)\n",
    "val_data = data_generator(val_files, batch_size=batch_size)\n",
    "hist_lr3 = model_lr3.fit(train_data, steps_per_epoch=(len(train_files)//batch_size), epochs=epochs, validation_data=val_data, validation_steps=(len(val_files)//batch_size), callbacks=callbacks)"
   ]
  },
  {
   "cell_type": "markdown",
   "metadata": {},
   "source": [
    "<p>In model_lr1 (Learning rate 2) the accuracy dropped significantly from around 0.6 to 0.1 and validation loss decreased too. This means that model did not converge due to such an high learning rate. In model_lr2 (Learning rate 0.2) Accuracy decreased further. This result was a bit surprising for me as I was expecting model to converge but it performed a bit worse in terms of validation and train accuracy. In model_lr3 (Learning rate 0.00001) accuracy was much better compared the other models. It kept on increasing and if we had more epochs we would have much better accuracy and the model is just taking longer to converge. As we can see in every epoch accuracy increases"
   ]
  },
  {
   "cell_type": "markdown",
   "metadata": {},
   "source": [
    "### Task 6.2 Plot loss and accuracy\n",
    "Plot the loss and accracy for best model selected in task 5.1, and model trained in 6.1.1, 6.1.2 and 6.1.3 task. Give the detailed analysis of the effect of learning rate in your words and select the best learning rate for this problem."
   ]
  },
  {
   "cell_type": "code",
   "execution_count": 156,
   "metadata": {},
   "outputs": [
    {
     "data": {
      "image/png": "[encoded data removed]",
      "text/plain": [
       "<Figure size 576x396 with 1 Axes>"
      ]
     },
     "metadata": {},
     "output_type": "display_data"
    },
    {
     "data": {
      "image/png": "[encoded data removed]",
      "text/plain": [
       "<Figure size 576x396 with 1 Axes>"
      ]
     },
     "metadata": {},
     "output_type": "display_data"
    }
   ],
   "source": [
    "# Use plotHistory to make these plots\n",
    "plotHistory([hist_preprocessed],['PreProcessed'],'accuracy')\n",
    "plotHistory([hist_preprocessed],['PreProcessed'],'loss')"
   ]
  },
  {
   "cell_type": "markdown",
   "metadata": {},
   "source": [
    "Analysis:The model's accuracy increases upto 80% and then after around 10-12 epochs it starts to stay constant \n",
    "Loss on the other hand exhibits similar properties and it actually still keeps on decreasing."
   ]
  },
  {
   "cell_type": "code",
   "execution_count": null,
   "metadata": {},
   "outputs": [],
   "source": []
  }
 ],
 "metadata": {
  "kernelspec": {
   "display_name": "Python 3",
   "language": "python",
   "name": "python3"
  },
  "language_info": {
   "codemirror_mode": {
    "name": "ipython",
    "version": 3
   },
   "file_extension": ".py",
   "mimetype": "text/x-python",
   "name": "python",
   "nbconvert_exporter": "python",
   "pygments_lexer": "ipython3",
   "version": "3.7.4"
  },
  "toc": {
   "base_numbering": 1,
   "nav_menu": {},
   "number_sections": true,
   "sideBar": true,
   "skip_h1_title": false,
   "title_cell": "Table of Contents",
   "title_sidebar": "Contents",
   "toc_cell": false,
   "toc_position": {},
   "toc_section_display": true,
   "toc_window_display": false
  },
  "widgets": {
   "application/vnd.jupyter.widget-state+json": {
    "state": {},
    "version_major": 2,
    "version_minor": 0
   }
  }
 },
 "nbformat": 4,
 "nbformat_minor": 2
}
